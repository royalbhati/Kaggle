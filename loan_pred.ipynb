{
  "cells": [
    {
      "cell_type": "code",
      "source": [
        "import matplotlib.pyplot as plt\n",
        "import seaborn as sns\n",
        "import numpy as np\n",
        "import pandas as pd\n",
        "import pandas as pd\n",
        "import numpy as np\n",
        "import re\n",
        "\n",
        "import seaborn as sns\n",
        "import matplotlib.pyplot as plt\n",
        "%matplotlib inline\n",
        "\n",
        "from sklearn.linear_model import LogisticRegression\n",
        "from sklearn.neighbors import KNeighborsClassifier\n",
        "from sklearn.ensemble import RandomForestClassifier\n",
        "from sklearn.ensemble import ExtraTreesClassifier\n",
        "from sklearn.ensemble import AdaBoostClassifier\n",
        "from sklearn.ensemble import GradientBoostingClassifier\n",
        "from sklearn.ensemble import VotingClassifier\n",
        "from sklearn.svm import SVC\n",
        "import xgboost as xgb\n",
        "# from mlxtend.classifier import StackingClassifier\n",
        "from sklearn.metrics import confusion_matrix, classification_report\n",
        "from sklearn.model_selection import train_test_split, cross_val_score, ShuffleSplit\n",
        "\n",
        "import warnings\n",
        "warnings.filterwarnings('ignore')"
      ],
      "outputs": [],
      "execution_count": 68,
      "metadata": {
        "collapsed": false,
        "outputHidden": false,
        "inputHidden": false
      }
    },
    {
      "cell_type": "markdown",
      "source": [],
      "metadata": {}
    },
    {
      "cell_type": "code",
      "source": [
        "cd royal/Downloads"
      ],
      "outputs": [
        {
          "output_type": "stream",
          "name": "stdout",
          "text": [
            "/home/royal/Downloads\n"
          ]
        }
      ],
      "execution_count": 2,
      "metadata": {
        "collapsed": false,
        "outputHidden": false,
        "inputHidden": false
      }
    },
    {
      "cell_type": "code",
      "source": [
        "train=pd.read_csv('train_u6lujuX_CVtuZ9i.csv')\n",
        "test=pd.read_csv('test_Y3wMUE5_7gLdaTN.csv')\n",
        "sample=pd.read_csv('Sample_Submission_ZAuTl8O_FK3zQHh.csv')\n",
        "ID=test['Loan_ID']"
      ],
      "outputs": [],
      "execution_count": 95,
      "metadata": {
        "collapsed": false,
        "outputHidden": false,
        "inputHidden": false
      }
    },
    {
      "cell_type": "code",
      "source": [
        "missing_df = train.isnull().sum(axis=0).reset_index()\n",
        "missing_df.columns = ['column_name', 'missing_count']\n",
        "missing_df = missing_df[missing_df['missing_count']>0]\n",
        "missing_df = missing_df.sort_values(by='missing_count')\n",
        "missing_df"
      ],
      "outputs": [
        {
          "output_type": "execute_result",
          "execution_count": 96,
          "data": {
            "text/plain": [
              "         column_name  missing_count\n",
              "2            Married              3\n",
              "1             Gender             13\n",
              "9   Loan_Amount_Term             14\n",
              "3         Dependents             15\n",
              "8         LoanAmount             22\n",
              "5      Self_Employed             32\n",
              "10    Credit_History             50"
            ],
            "text/html": [
              "<div>\n",
              "<style scoped>\n",
              "    .dataframe tbody tr th:only-of-type {\n",
              "        vertical-align: middle;\n",
              "    }\n",
              "\n",
              "    .dataframe tbody tr th {\n",
              "        vertical-align: top;\n",
              "    }\n",
              "\n",
              "    .dataframe thead th {\n",
              "        text-align: right;\n",
              "    }\n",
              "</style>\n",
              "<table border=\"1\" class=\"dataframe\">\n",
              "  <thead>\n",
              "    <tr style=\"text-align: right;\">\n",
              "      <th></th>\n",
              "      <th>column_name</th>\n",
              "      <th>missing_count</th>\n",
              "    </tr>\n",
              "  </thead>\n",
              "  <tbody>\n",
              "    <tr>\n",
              "      <th>2</th>\n",
              "      <td>Married</td>\n",
              "      <td>3</td>\n",
              "    </tr>\n",
              "    <tr>\n",
              "      <th>1</th>\n",
              "      <td>Gender</td>\n",
              "      <td>13</td>\n",
              "    </tr>\n",
              "    <tr>\n",
              "      <th>9</th>\n",
              "      <td>Loan_Amount_Term</td>\n",
              "      <td>14</td>\n",
              "    </tr>\n",
              "    <tr>\n",
              "      <th>3</th>\n",
              "      <td>Dependents</td>\n",
              "      <td>15</td>\n",
              "    </tr>\n",
              "    <tr>\n",
              "      <th>8</th>\n",
              "      <td>LoanAmount</td>\n",
              "      <td>22</td>\n",
              "    </tr>\n",
              "    <tr>\n",
              "      <th>5</th>\n",
              "      <td>Self_Employed</td>\n",
              "      <td>32</td>\n",
              "    </tr>\n",
              "    <tr>\n",
              "      <th>10</th>\n",
              "      <td>Credit_History</td>\n",
              "      <td>50</td>\n",
              "    </tr>\n",
              "  </tbody>\n",
              "</table>\n",
              "</div>"
            ]
          },
          "metadata": {}
        }
      ],
      "execution_count": 96,
      "metadata": {
        "collapsed": false,
        "outputHidden": false,
        "inputHidden": false
      }
    },
    {
      "cell_type": "code",
      "source": [
        "missing_df = test.isnull().sum(axis=0).reset_index()\n",
        "missing_df.columns = ['column_name', 'missing_count']\n",
        "missing_df = missing_df[missing_df['missing_count']>0]\n",
        "missing_df = missing_df.sort_values(by='missing_count')\n",
        "missing_df"
      ],
      "outputs": [
        {
          "output_type": "execute_result",
          "execution_count": 97,
          "data": {
            "text/plain": [
              "         column_name  missing_count\n",
              "8         LoanAmount              5\n",
              "9   Loan_Amount_Term              6\n",
              "3         Dependents             10\n",
              "1             Gender             11\n",
              "5      Self_Employed             23\n",
              "10    Credit_History             29"
            ],
            "text/html": [
              "<div>\n",
              "<style scoped>\n",
              "    .dataframe tbody tr th:only-of-type {\n",
              "        vertical-align: middle;\n",
              "    }\n",
              "\n",
              "    .dataframe tbody tr th {\n",
              "        vertical-align: top;\n",
              "    }\n",
              "\n",
              "    .dataframe thead th {\n",
              "        text-align: right;\n",
              "    }\n",
              "</style>\n",
              "<table border=\"1\" class=\"dataframe\">\n",
              "  <thead>\n",
              "    <tr style=\"text-align: right;\">\n",
              "      <th></th>\n",
              "      <th>column_name</th>\n",
              "      <th>missing_count</th>\n",
              "    </tr>\n",
              "  </thead>\n",
              "  <tbody>\n",
              "    <tr>\n",
              "      <th>8</th>\n",
              "      <td>LoanAmount</td>\n",
              "      <td>5</td>\n",
              "    </tr>\n",
              "    <tr>\n",
              "      <th>9</th>\n",
              "      <td>Loan_Amount_Term</td>\n",
              "      <td>6</td>\n",
              "    </tr>\n",
              "    <tr>\n",
              "      <th>3</th>\n",
              "      <td>Dependents</td>\n",
              "      <td>10</td>\n",
              "    </tr>\n",
              "    <tr>\n",
              "      <th>1</th>\n",
              "      <td>Gender</td>\n",
              "      <td>11</td>\n",
              "    </tr>\n",
              "    <tr>\n",
              "      <th>5</th>\n",
              "      <td>Self_Employed</td>\n",
              "      <td>23</td>\n",
              "    </tr>\n",
              "    <tr>\n",
              "      <th>10</th>\n",
              "      <td>Credit_History</td>\n",
              "      <td>29</td>\n",
              "    </tr>\n",
              "  </tbody>\n",
              "</table>\n",
              "</div>"
            ]
          },
          "metadata": {}
        }
      ],
      "execution_count": 97,
      "metadata": {
        "collapsed": false,
        "outputHidden": false,
        "inputHidden": false
      }
    },
    {
      "cell_type": "code",
      "source": [
        "train.Gender=train.Gender.fillna(train.Gender.mode()[0])\n",
        "train.Married=train.Married.fillna(train.Married.mode()[0])\n",
        "train.Loan_Amount_Term=train.Loan_Amount_Term.fillna(train.Loan_Amount_Term.mode()[0])\n",
        "train.Dependents=train.Dependents.fillna(train.Dependents.mode()[0])\n",
        "train.LoanAmount=train.LoanAmount.fillna(train.LoanAmount.mean())\n",
        "train.Self_Employed=train.Self_Employed.fillna(train.Self_Employed.mode()[0])\n",
        "train.Credit_History=train.Credit_History.fillna(train.Credit_History.mode()[0])\n",
        "\n\n\n\n"
      ],
      "outputs": [],
      "execution_count": 98,
      "metadata": {
        "collapsed": false,
        "outputHidden": false,
        "inputHidden": false
      }
    },
    {
      "cell_type": "code",
      "source": [
        "\n",
        "test.Gender=test.Gender.fillna(test.Gender.mode()[0])\n",
        "test.Loan_Amount_Term=test.Loan_Amount_Term.fillna(test.Loan_Amount_Term.mode()[0])\n",
        "test.Dependents=test.Dependents.fillna(test.Dependents.mode()[0])\n",
        "test.LoanAmount=test.LoanAmount.fillna(test.LoanAmount.mean())\n",
        "test.Self_Employed=test.Self_Employed.fillna(test.Self_Employed.mode()[0])\n",
        "test.Credit_History=test.Credit_History.fillna(test.Credit_History.mode()[0])"
      ],
      "outputs": [],
      "execution_count": 99,
      "metadata": {
        "collapsed": false,
        "outputHidden": false,
        "inputHidden": false
      }
    },
    {
      "cell_type": "code",
      "source": [
        "from sklearn import preprocessing, model_selection, metrics\n",
        "\n",
        "for f in test.columns :\n",
        "        if (train[f].dtype=='object' and f!='Loan_ID'):\n",
        "           \n",
        "            lbl = preprocessing.LabelEncoder()\n",
        "            lbl.fit(list(train[f].values))\n",
        "            train[f] = lbl.transform(list(train[f].values))\n",
        "            test[f] = lbl.transform(list(test[f].values))"
      ],
      "outputs": [],
      "execution_count": 100,
      "metadata": {
        "collapsed": false,
        "outputHidden": false,
        "inputHidden": false
      }
    },
    {
      "cell_type": "code",
      "source": [
        "train.head()"
      ],
      "outputs": [
        {
          "output_type": "execute_result",
          "execution_count": 101,
          "data": {
            "text/plain": [
              "    Loan_ID  Gender  Married  Dependents  Education  Self_Employed  \\\n",
              "0  LP001002       1        0           0          0              0   \n",
              "1  LP001003       1        1           1          0              0   \n",
              "2  LP001005       1        1           0          0              1   \n",
              "3  LP001006       1        1           0          1              0   \n",
              "4  LP001008       1        0           0          0              0   \n",
              "\n",
              "   ApplicantIncome  CoapplicantIncome  LoanAmount  Loan_Amount_Term  \\\n",
              "0             5849                0.0  146.412162             360.0   \n",
              "1             4583             1508.0  128.000000             360.0   \n",
              "2             3000                0.0   66.000000             360.0   \n",
              "3             2583             2358.0  120.000000             360.0   \n",
              "4             6000                0.0  141.000000             360.0   \n",
              "\n",
              "   Credit_History  Property_Area Loan_Status  \n",
              "0             1.0              2           Y  \n",
              "1             1.0              0           N  \n",
              "2             1.0              2           Y  \n",
              "3             1.0              2           Y  \n",
              "4             1.0              2           Y  "
            ],
            "text/html": [
              "<div>\n",
              "<style scoped>\n",
              "    .dataframe tbody tr th:only-of-type {\n",
              "        vertical-align: middle;\n",
              "    }\n",
              "\n",
              "    .dataframe tbody tr th {\n",
              "        vertical-align: top;\n",
              "    }\n",
              "\n",
              "    .dataframe thead th {\n",
              "        text-align: right;\n",
              "    }\n",
              "</style>\n",
              "<table border=\"1\" class=\"dataframe\">\n",
              "  <thead>\n",
              "    <tr style=\"text-align: right;\">\n",
              "      <th></th>\n",
              "      <th>Loan_ID</th>\n",
              "      <th>Gender</th>\n",
              "      <th>Married</th>\n",
              "      <th>Dependents</th>\n",
              "      <th>Education</th>\n",
              "      <th>Self_Employed</th>\n",
              "      <th>ApplicantIncome</th>\n",
              "      <th>CoapplicantIncome</th>\n",
              "      <th>LoanAmount</th>\n",
              "      <th>Loan_Amount_Term</th>\n",
              "      <th>Credit_History</th>\n",
              "      <th>Property_Area</th>\n",
              "      <th>Loan_Status</th>\n",
              "    </tr>\n",
              "  </thead>\n",
              "  <tbody>\n",
              "    <tr>\n",
              "      <th>0</th>\n",
              "      <td>LP001002</td>\n",
              "      <td>1</td>\n",
              "      <td>0</td>\n",
              "      <td>0</td>\n",
              "      <td>0</td>\n",
              "      <td>0</td>\n",
              "      <td>5849</td>\n",
              "      <td>0.0</td>\n",
              "      <td>146.412162</td>\n",
              "      <td>360.0</td>\n",
              "      <td>1.0</td>\n",
              "      <td>2</td>\n",
              "      <td>Y</td>\n",
              "    </tr>\n",
              "    <tr>\n",
              "      <th>1</th>\n",
              "      <td>LP001003</td>\n",
              "      <td>1</td>\n",
              "      <td>1</td>\n",
              "      <td>1</td>\n",
              "      <td>0</td>\n",
              "      <td>0</td>\n",
              "      <td>4583</td>\n",
              "      <td>1508.0</td>\n",
              "      <td>128.000000</td>\n",
              "      <td>360.0</td>\n",
              "      <td>1.0</td>\n",
              "      <td>0</td>\n",
              "      <td>N</td>\n",
              "    </tr>\n",
              "    <tr>\n",
              "      <th>2</th>\n",
              "      <td>LP001005</td>\n",
              "      <td>1</td>\n",
              "      <td>1</td>\n",
              "      <td>0</td>\n",
              "      <td>0</td>\n",
              "      <td>1</td>\n",
              "      <td>3000</td>\n",
              "      <td>0.0</td>\n",
              "      <td>66.000000</td>\n",
              "      <td>360.0</td>\n",
              "      <td>1.0</td>\n",
              "      <td>2</td>\n",
              "      <td>Y</td>\n",
              "    </tr>\n",
              "    <tr>\n",
              "      <th>3</th>\n",
              "      <td>LP001006</td>\n",
              "      <td>1</td>\n",
              "      <td>1</td>\n",
              "      <td>0</td>\n",
              "      <td>1</td>\n",
              "      <td>0</td>\n",
              "      <td>2583</td>\n",
              "      <td>2358.0</td>\n",
              "      <td>120.000000</td>\n",
              "      <td>360.0</td>\n",
              "      <td>1.0</td>\n",
              "      <td>2</td>\n",
              "      <td>Y</td>\n",
              "    </tr>\n",
              "    <tr>\n",
              "      <th>4</th>\n",
              "      <td>LP001008</td>\n",
              "      <td>1</td>\n",
              "      <td>0</td>\n",
              "      <td>0</td>\n",
              "      <td>0</td>\n",
              "      <td>0</td>\n",
              "      <td>6000</td>\n",
              "      <td>0.0</td>\n",
              "      <td>141.000000</td>\n",
              "      <td>360.0</td>\n",
              "      <td>1.0</td>\n",
              "      <td>2</td>\n",
              "      <td>Y</td>\n",
              "    </tr>\n",
              "  </tbody>\n",
              "</table>\n",
              "</div>"
            ]
          },
          "metadata": {}
        }
      ],
      "execution_count": 101,
      "metadata": {
        "collapsed": false,
        "outputHidden": false,
        "inputHidden": false
      }
    },
    {
      "cell_type": "code",
      "source": [
        "train.Gender=train.Gender.astype('category')\n",
        "train.Married=train.Married.astype('category')\n",
        "train.Dependents=train.Dependents.astype('category')\n",
        "train.Education=train.Education.astype('category')\n",
        "train.Self_Employed=train.Self_Employed.astype('category')\n",
        "train.Credit_History=train.Credit_History.astype('category')\n",
        "train.Property_Area=train.Property_Area.astype('category')\n",
        "train.Loan_Status=train.Loan_Status.astype('category')\n"
      ],
      "outputs": [],
      "execution_count": 102,
      "metadata": {
        "collapsed": false,
        "outputHidden": false,
        "inputHidden": false
      }
    },
    {
      "cell_type": "code",
      "source": [
        "test.Gender=test.Gender.astype('category')\n",
        "test.Married=test.Married.astype('category')\n",
        "test.Dependents=test.Dependents.astype('category')\n",
        "test.Education=test.Education.astype('category')\n",
        "test.Self_Employed=test.Self_Employed.astype('category')\n",
        "test.Credit_History=test.Credit_History.astype('category')\n",
        "test.Property_Area=test.Property_Area.astype('category')\n",
        "\n"
      ],
      "outputs": [],
      "execution_count": 103,
      "metadata": {
        "collapsed": false,
        "outputHidden": false,
        "inputHidden": false
      }
    },
    {
      "cell_type": "code",
      "source": [
        "train['ApplicantIncome']=np.log1p(train['ApplicantIncome'])\n",
        "train['CoapplicantIncome']=np.log1p(train['CoapplicantIncome'])\n",
        "train['LoanAmount']=np.log1p(train['LoanAmount'])\n",
        "\n",
        "test['ApplicantIncome']=np.log1p(test['ApplicantIncome'])\n",
        "test['CoapplicantIncome']=np.log1p(test['CoapplicantIncome'])\n",
        "test['LoanAmount']=np.log1p(test['LoanAmount'])\n"
      ],
      "outputs": [],
      "execution_count": 104,
      "metadata": {
        "collapsed": false,
        "outputHidden": false,
        "inputHidden": false
      }
    },
    {
      "cell_type": "code",
      "source": [
        "# NEw features\n",
        "\n\n\n",
        "# train['CbyA']=train['CoapplicantIncome']/train['ApplicantIncome']\n",
        "train['CtoA']=train['CoapplicantIncome']*train['ApplicantIncome']\n",
        "\n",
        "# train['LbyLT']=train['LoanAmount']/train['Loan_Amount_Term']\n",
        "train['AtoLT']=train['ApplicantIncome']*train['Loan_Amount_Term']\n",
        "train['CtoLT']=train['CoapplicantIncome']*train['Loan_Amount_Term']\n",
        "\n\n",
        "# test['CbyA']=train['CoapplicantIncome']/test['ApplicantIncome']\n",
        "# test['LbyLT']=test['LoanAmount']/test['Loan_Amount_Term']\n",
        "test['AtoLT']=test['ApplicantIncome']*test['Loan_Amount_Term']\n",
        "test['CtoA']=test['CoapplicantIncome']*test['ApplicantIncome']\n",
        "test['CtoLT']=test['CoapplicantIncome']*test['Loan_Amount_Term']\n",
        "\n",
        "train['Very_Short_Term'] = train['Loan_Amount_Term'].map(lambda t: 1 if t<=60 else 0)\n",
        "train['Short_Term'] = train['Loan_Amount_Term'].map(lambda t: 1 if t>60 and t<180 else 0)\n",
        "train['Long_Term'] = train['Loan_Amount_Term'].map(lambda t: 1 if t>=180 and t<=300  else 0)\n",
        "train['Very_Long_Term'] = train['Loan_Amount_Term'].map(lambda t: 1 if t>300 else 0)\n",
        "train.drop('Loan_Amount_Term', axis=1, inplace=True)\n",
        "\n\n",
        "test['Very_Short_Term'] = test['Loan_Amount_Term'].map(lambda t: 1 if t<=60 else 0)\n",
        "test['Short_Term'] = test['Loan_Amount_Term'].map(lambda t: 1 if t>60 and t<180 else 0)\n",
        "test['Long_Term'] = test['Loan_Amount_Term'].map(lambda t: 1 if t>=180 and t<=300  else 0)\n",
        "test['Very_Long_Term'] = test['Loan_Amount_Term'].map(lambda t: 1 if t>300 else 0)\n",
        "test.drop('Loan_Amount_Term', axis=1, inplace=True)\n",
        "\n",
        "train['Credit_History_Bad'] = train['Credit_History'].map(lambda c: 1 if c==0 else 0)\n",
        "train['Credit_History_Good'] = train['Credit_History'].map(lambda c: 1 if c==1 else 0)\n",
        "train.drop('Credit_History', axis=1, inplace=True)\n",
        "\n\n\n\n",
        "test['Credit_History_Bad'] = test['Credit_History'].map(lambda c: 1 if c==0 else 0)\n",
        "test['Credit_History_Good'] = test['Credit_History'].map(lambda c: 1 if c==1 else 0)\n",
        "test.drop('Credit_History', axis=1, inplace=True)\n",
        "\n"
      ],
      "outputs": [],
      "execution_count": 105,
      "metadata": {
        "collapsed": false,
        "outputHidden": false,
        "inputHidden": false
      }
    },
    {
      "cell_type": "code",
      "source": [],
      "outputs": [],
      "execution_count": 106,
      "metadata": {
        "collapsed": false,
        "outputHidden": false,
        "inputHidden": false
      }
    },
    {
      "cell_type": "code",
      "source": [
        "from sklearn.ensemble import RandomForestRegressor,RandomForestClassifier,ExtraTreesClassifier"
      ],
      "outputs": [],
      "execution_count": 106,
      "metadata": {
        "collapsed": false,
        "outputHidden": false,
        "inputHidden": false
      }
    },
    {
      "cell_type": "code",
      "source": [
        "train['Loan_Status']=train['Loan_Status'].apply(lambda x :1 if x=='Y' else 0 )"
      ],
      "outputs": [],
      "execution_count": 107,
      "metadata": {
        "collapsed": false,
        "outputHidden": false,
        "inputHidden": false
      }
    },
    {
      "cell_type": "code",
      "source": [
        "X=train.drop(['Loan_Status','Loan_ID'],axis=1)\n",
        "Y=train['Loan_Status']\n",
        "test=test.drop(['Loan_ID'],axis=1)"
      ],
      "outputs": [],
      "execution_count": 108,
      "metadata": {
        "collapsed": false,
        "outputHidden": false,
        "inputHidden": false
      }
    },
    {
      "cell_type": "code",
      "source": [],
      "outputs": [],
      "execution_count": 109,
      "metadata": {
        "collapsed": false,
        "outputHidden": false,
        "inputHidden": false
      }
    },
    {
      "cell_type": "code",
      "source": [
        "from sklearn.model_selection import train_test_split\n",
        "dev_X, val_X, dev_y, val_y = train_test_split(X, Y, test_size = 0.2, random_state = 42)"
      ],
      "outputs": [],
      "execution_count": 109,
      "metadata": {
        "collapsed": false,
        "outputHidden": false,
        "inputHidden": false
      }
    },
    {
      "cell_type": "code",
      "source": [
        "X.head()"
      ],
      "outputs": [
        {
          "output_type": "execute_result",
          "execution_count": 110,
          "data": {
            "text/plain": [
              "  Gender Married Dependents Education Self_Employed  ApplicantIncome  \\\n",
              "0      1       0          0         0             0         8.674197   \n",
              "1      1       1          1         0             0         8.430327   \n",
              "2      1       1          0         0             1         8.006701   \n",
              "3      1       1          0         1             0         7.857094   \n",
              "4      1       0          0         0             0         8.699681   \n",
              "\n",
              "   CoapplicantIncome  LoanAmount Property_Area       CtoA        AtoLT  \\\n",
              "0           0.000000    4.993232             2   0.000000  3122.710898   \n",
              "1           7.319202    4.859812             0  61.703272  3034.917813   \n",
              "2           0.000000    4.204693             2   0.000000  2882.412304   \n",
              "3           7.765993    4.795791             2  61.018137  2828.553791   \n",
              "4           0.000000    4.955827             2   0.000000  3131.885304   \n",
              "\n",
              "         CtoLT  Very_Short_Term  Short_Term  Long_Term  Very_Long_Term  \\\n",
              "0     0.000000                0           0          0               1   \n",
              "1  2634.912885                0           0          0               1   \n",
              "2     0.000000                0           0          0               1   \n",
              "3  2795.757509                0           0          0               1   \n",
              "4     0.000000                0           0          0               1   \n",
              "\n",
              "  Credit_History_Bad Credit_History_Good  \n",
              "0                  0                   1  \n",
              "1                  0                   1  \n",
              "2                  0                   1  \n",
              "3                  0                   1  \n",
              "4                  0                   1  "
            ],
            "text/html": [
              "<div>\n",
              "<style scoped>\n",
              "    .dataframe tbody tr th:only-of-type {\n",
              "        vertical-align: middle;\n",
              "    }\n",
              "\n",
              "    .dataframe tbody tr th {\n",
              "        vertical-align: top;\n",
              "    }\n",
              "\n",
              "    .dataframe thead th {\n",
              "        text-align: right;\n",
              "    }\n",
              "</style>\n",
              "<table border=\"1\" class=\"dataframe\">\n",
              "  <thead>\n",
              "    <tr style=\"text-align: right;\">\n",
              "      <th></th>\n",
              "      <th>Gender</th>\n",
              "      <th>Married</th>\n",
              "      <th>Dependents</th>\n",
              "      <th>Education</th>\n",
              "      <th>Self_Employed</th>\n",
              "      <th>ApplicantIncome</th>\n",
              "      <th>CoapplicantIncome</th>\n",
              "      <th>LoanAmount</th>\n",
              "      <th>Property_Area</th>\n",
              "      <th>CtoA</th>\n",
              "      <th>AtoLT</th>\n",
              "      <th>CtoLT</th>\n",
              "      <th>Very_Short_Term</th>\n",
              "      <th>Short_Term</th>\n",
              "      <th>Long_Term</th>\n",
              "      <th>Very_Long_Term</th>\n",
              "      <th>Credit_History_Bad</th>\n",
              "      <th>Credit_History_Good</th>\n",
              "    </tr>\n",
              "  </thead>\n",
              "  <tbody>\n",
              "    <tr>\n",
              "      <th>0</th>\n",
              "      <td>1</td>\n",
              "      <td>0</td>\n",
              "      <td>0</td>\n",
              "      <td>0</td>\n",
              "      <td>0</td>\n",
              "      <td>8.674197</td>\n",
              "      <td>0.000000</td>\n",
              "      <td>4.993232</td>\n",
              "      <td>2</td>\n",
              "      <td>0.000000</td>\n",
              "      <td>3122.710898</td>\n",
              "      <td>0.000000</td>\n",
              "      <td>0</td>\n",
              "      <td>0</td>\n",
              "      <td>0</td>\n",
              "      <td>1</td>\n",
              "      <td>0</td>\n",
              "      <td>1</td>\n",
              "    </tr>\n",
              "    <tr>\n",
              "      <th>1</th>\n",
              "      <td>1</td>\n",
              "      <td>1</td>\n",
              "      <td>1</td>\n",
              "      <td>0</td>\n",
              "      <td>0</td>\n",
              "      <td>8.430327</td>\n",
              "      <td>7.319202</td>\n",
              "      <td>4.859812</td>\n",
              "      <td>0</td>\n",
              "      <td>61.703272</td>\n",
              "      <td>3034.917813</td>\n",
              "      <td>2634.912885</td>\n",
              "      <td>0</td>\n",
              "      <td>0</td>\n",
              "      <td>0</td>\n",
              "      <td>1</td>\n",
              "      <td>0</td>\n",
              "      <td>1</td>\n",
              "    </tr>\n",
              "    <tr>\n",
              "      <th>2</th>\n",
              "      <td>1</td>\n",
              "      <td>1</td>\n",
              "      <td>0</td>\n",
              "      <td>0</td>\n",
              "      <td>1</td>\n",
              "      <td>8.006701</td>\n",
              "      <td>0.000000</td>\n",
              "      <td>4.204693</td>\n",
              "      <td>2</td>\n",
              "      <td>0.000000</td>\n",
              "      <td>2882.412304</td>\n",
              "      <td>0.000000</td>\n",
              "      <td>0</td>\n",
              "      <td>0</td>\n",
              "      <td>0</td>\n",
              "      <td>1</td>\n",
              "      <td>0</td>\n",
              "      <td>1</td>\n",
              "    </tr>\n",
              "    <tr>\n",
              "      <th>3</th>\n",
              "      <td>1</td>\n",
              "      <td>1</td>\n",
              "      <td>0</td>\n",
              "      <td>1</td>\n",
              "      <td>0</td>\n",
              "      <td>7.857094</td>\n",
              "      <td>7.765993</td>\n",
              "      <td>4.795791</td>\n",
              "      <td>2</td>\n",
              "      <td>61.018137</td>\n",
              "      <td>2828.553791</td>\n",
              "      <td>2795.757509</td>\n",
              "      <td>0</td>\n",
              "      <td>0</td>\n",
              "      <td>0</td>\n",
              "      <td>1</td>\n",
              "      <td>0</td>\n",
              "      <td>1</td>\n",
              "    </tr>\n",
              "    <tr>\n",
              "      <th>4</th>\n",
              "      <td>1</td>\n",
              "      <td>0</td>\n",
              "      <td>0</td>\n",
              "      <td>0</td>\n",
              "      <td>0</td>\n",
              "      <td>8.699681</td>\n",
              "      <td>0.000000</td>\n",
              "      <td>4.955827</td>\n",
              "      <td>2</td>\n",
              "      <td>0.000000</td>\n",
              "      <td>3131.885304</td>\n",
              "      <td>0.000000</td>\n",
              "      <td>0</td>\n",
              "      <td>0</td>\n",
              "      <td>0</td>\n",
              "      <td>1</td>\n",
              "      <td>0</td>\n",
              "      <td>1</td>\n",
              "    </tr>\n",
              "  </tbody>\n",
              "</table>\n",
              "</div>"
            ]
          },
          "metadata": {}
        }
      ],
      "execution_count": 110,
      "metadata": {
        "collapsed": false,
        "outputHidden": false,
        "inputHidden": false
      }
    },
    {
      "cell_type": "code",
      "source": [
        "train.dtypes"
      ],
      "outputs": [
        {
          "output_type": "execute_result",
          "execution_count": 113,
          "data": {
            "text/plain": [
              "Loan_ID                  object\n",
              "Gender                 category\n",
              "Married                category\n",
              "Dependents             category\n",
              "Education              category\n",
              "Self_Employed          category\n",
              "ApplicantIncome         float64\n",
              "CoapplicantIncome       float64\n",
              "LoanAmount              float64\n",
              "Property_Area          category\n",
              "Loan_Status            category\n",
              "CtoA                    float64\n",
              "AtoLT                   float64\n",
              "CtoLT                   float64\n",
              "Very_Short_Term           int64\n",
              "Short_Term                int64\n",
              "Long_Term                 int64\n",
              "Very_Long_Term            int64\n",
              "Credit_History_Bad     category\n",
              "Credit_History_Good    category\n",
              "dtype: object"
            ]
          },
          "metadata": {}
        }
      ],
      "execution_count": 113,
      "metadata": {
        "collapsed": false,
        "outputHidden": false,
        "inputHidden": false
      }
    },
    {
      "cell_type": "code",
      "source": [
        "svcmod = SVC(C = 15, kernel = 'rbf', gamma = 0.2, probability= True)\n",
        "svcmod.scores = cross_val_score(svcmod, dev_X, dev_y, cv=5)\n",
        "\n",
        "knnmod = KNeighborsClassifier(n_neighbors= 10)\n",
        "knnmod.scores = cross_val_score(knnmod, dev_X, dev_y, cv=5)\n",
        "\n",
        "rfmod = RandomForestClassifier(n_estimators=100, max_features=10, max_depth=5)\n",
        "rfmod.scores = cross_val_score(rfmod, dev_X, dev_y, cv=5)\n",
        "\n",
        "# xgbmod = xgb.XGBClassifier(learning_rate= 0.1, gamma = 0.8, max_depth= 3, min_child_weight=7, \n",
        "#                            objective= 'binardev_y:logistic', subsample=0.8, colsample_bytree=0.8, \n",
        "#                            scale_pos_weight=1, n_estimators = 200, nthread = -1)\n",
        "# xgbmod.scores = cross_val_score(xgbmod, dev_X, dev_y, cv=5)\n",
        "\n",
        "etmod = ExtraTreesClassifier(n_estimators=300, max_features=6, max_depth=6)\n",
        "etmod.scores = cross_val_score(etmod, dev_X, dev_y, cv=5)\n",
        "\n",
        "admod = AdaBoostClassifier(n_estimators= 100, learning_rate= 0.1)\n",
        "admod.scores = cross_val_score(admod, dev_X, dev_y, cv=5)\n",
        "\n",
        "lr = LogisticRegression(C = 0.8)\n",
        "lr.scores = cross_val_score(lr, dev_X, dev_y, cv=5)\n",
        "\n",
        "for clf, label in zip([svcmod, knnmod, rfmod, etmod, admod, lr], \n",
        "                      ['SVC', \n",
        "                       'KNN', \n",
        "                       'Random Forest',\n",
        "                       'ExtraTrees',\n",
        "                       'AdaBoost',\n",
        "                       'Logistic Regression']):\n",
        "    print(\"%s Accuracy: %0.3f\" % (label,clf.scores.mean()))"
      ],
      "outputs": [
        {
          "output_type": "stream",
          "name": "stdout",
          "text": [
            "SVC Accuracy: 0.686\n",
            "KNN Accuracy: 0.686\n",
            "Random Forest Accuracy: 0.796\n",
            "ExtraTrees Accuracy: 0.813\n",
            "AdaBoost Accuracy: 0.806\n",
            "Logistic Regression Accuracy: 0.815\n"
          ]
        }
      ],
      "execution_count": 115,
      "metadata": {
        "collapsed": false,
        "outputHidden": false,
        "inputHidden": false
      }
    },
    {
      "cell_type": "code",
      "source": [
        "votemod = VotingClassifier(estimators=[('et', etmod),('lr',lr),\n",
        "                                       ('rf', rfmod), ('ad', admod)], \n",
        "                           weights = [2,1,2,1,],\n",
        "                           voting='soft')\n",
        "votemod.scores = cross_val_score(votemod, dev_X, dev_y, cv=5)\n",
        "print(votemod.scores.mean())"
      ],
      "outputs": [
        {
          "output_type": "stream",
          "name": "stdout",
          "text": [
            "0.8145456245603521\n"
          ]
        }
      ],
      "execution_count": 117,
      "metadata": {
        "collapsed": false,
        "outputHidden": false,
        "inputHidden": false
      }
    },
    {
      "cell_type": "code",
      "source": [
        "# parameters = {'bootstrap': True,\n",
        "#               'min_samples_leaf': 5,\n",
        "#               'n_estimators':4000,\n",
        "#               'n_jobs':-1,\n",
        "#               'min_samples_split': 20,\n",
        "#               'max_features': 'auto',\n",
        "#               'max_depth': 16}\n",
        "\n",
        "m= ExtraTreesClassifier(n_estimators=400)\n",
        "\n",
        "m.fit(dev_X,dev_y)\n",
        "m.score(val_X,val_y)"
      ],
      "outputs": [
        {
          "output_type": "execute_result",
          "execution_count": 66,
          "data": {
            "text/plain": [
              "0.7804878048780488"
            ]
          },
          "metadata": {}
        }
      ],
      "execution_count": 66,
      "metadata": {
        "collapsed": false,
        "outputHidden": false,
        "inputHidden": false
      }
    },
    {
      "cell_type": "code",
      "source": [],
      "outputs": [],
      "execution_count": null,
      "metadata": {
        "collapsed": false,
        "outputHidden": false,
        "inputHidden": false
      }
    },
    {
      "cell_type": "code",
      "source": [
        "z = m.feature_importances_\n",
        "df = pd.DataFrame()\n",
        "df[\"values\"] = z*100\n",
        "df[\"column\"] = list(dev_X.columns.values)\n",
        "df"
      ],
      "outputs": [
        {
          "output_type": "execute_result",
          "execution_count": 57,
          "data": {
            "text/plain": [
              "       values               column\n",
              "0    2.306942               Gender\n",
              "1    2.178379              Married\n",
              "2    5.130250           Dependents\n",
              "3    2.320661            Education\n",
              "4    1.829683        Self_Employed\n",
              "5   12.086731      ApplicantIncome\n",
              "6    4.583646    CoapplicantIncome\n",
              "7   11.118590           LoanAmount\n",
              "8    5.344648        Property_Area\n",
              "9    4.082424                 CtoA\n",
              "10  12.798751                AtoLT\n",
              "11   4.584565                CtoLT\n",
              "12   0.489910      Very_Short_Term\n",
              "13   0.284602           Short_Term\n",
              "14   0.952457            Long_Term\n",
              "15   0.862814       Very_Long_Term\n",
              "16  13.800506   Credit_History_Bad\n",
              "17  15.244440  Credit_History_Good"
            ],
            "text/html": [
              "<div>\n",
              "<style scoped>\n",
              "    .dataframe tbody tr th:only-of-type {\n",
              "        vertical-align: middle;\n",
              "    }\n",
              "\n",
              "    .dataframe tbody tr th {\n",
              "        vertical-align: top;\n",
              "    }\n",
              "\n",
              "    .dataframe thead th {\n",
              "        text-align: right;\n",
              "    }\n",
              "</style>\n",
              "<table border=\"1\" class=\"dataframe\">\n",
              "  <thead>\n",
              "    <tr style=\"text-align: right;\">\n",
              "      <th></th>\n",
              "      <th>values</th>\n",
              "      <th>column</th>\n",
              "    </tr>\n",
              "  </thead>\n",
              "  <tbody>\n",
              "    <tr>\n",
              "      <th>0</th>\n",
              "      <td>2.306942</td>\n",
              "      <td>Gender</td>\n",
              "    </tr>\n",
              "    <tr>\n",
              "      <th>1</th>\n",
              "      <td>2.178379</td>\n",
              "      <td>Married</td>\n",
              "    </tr>\n",
              "    <tr>\n",
              "      <th>2</th>\n",
              "      <td>5.130250</td>\n",
              "      <td>Dependents</td>\n",
              "    </tr>\n",
              "    <tr>\n",
              "      <th>3</th>\n",
              "      <td>2.320661</td>\n",
              "      <td>Education</td>\n",
              "    </tr>\n",
              "    <tr>\n",
              "      <th>4</th>\n",
              "      <td>1.829683</td>\n",
              "      <td>Self_Employed</td>\n",
              "    </tr>\n",
              "    <tr>\n",
              "      <th>5</th>\n",
              "      <td>12.086731</td>\n",
              "      <td>ApplicantIncome</td>\n",
              "    </tr>\n",
              "    <tr>\n",
              "      <th>6</th>\n",
              "      <td>4.583646</td>\n",
              "      <td>CoapplicantIncome</td>\n",
              "    </tr>\n",
              "    <tr>\n",
              "      <th>7</th>\n",
              "      <td>11.118590</td>\n",
              "      <td>LoanAmount</td>\n",
              "    </tr>\n",
              "    <tr>\n",
              "      <th>8</th>\n",
              "      <td>5.344648</td>\n",
              "      <td>Property_Area</td>\n",
              "    </tr>\n",
              "    <tr>\n",
              "      <th>9</th>\n",
              "      <td>4.082424</td>\n",
              "      <td>CtoA</td>\n",
              "    </tr>\n",
              "    <tr>\n",
              "      <th>10</th>\n",
              "      <td>12.798751</td>\n",
              "      <td>AtoLT</td>\n",
              "    </tr>\n",
              "    <tr>\n",
              "      <th>11</th>\n",
              "      <td>4.584565</td>\n",
              "      <td>CtoLT</td>\n",
              "    </tr>\n",
              "    <tr>\n",
              "      <th>12</th>\n",
              "      <td>0.489910</td>\n",
              "      <td>Very_Short_Term</td>\n",
              "    </tr>\n",
              "    <tr>\n",
              "      <th>13</th>\n",
              "      <td>0.284602</td>\n",
              "      <td>Short_Term</td>\n",
              "    </tr>\n",
              "    <tr>\n",
              "      <th>14</th>\n",
              "      <td>0.952457</td>\n",
              "      <td>Long_Term</td>\n",
              "    </tr>\n",
              "    <tr>\n",
              "      <th>15</th>\n",
              "      <td>0.862814</td>\n",
              "      <td>Very_Long_Term</td>\n",
              "    </tr>\n",
              "    <tr>\n",
              "      <th>16</th>\n",
              "      <td>13.800506</td>\n",
              "      <td>Credit_History_Bad</td>\n",
              "    </tr>\n",
              "    <tr>\n",
              "      <th>17</th>\n",
              "      <td>15.244440</td>\n",
              "      <td>Credit_History_Good</td>\n",
              "    </tr>\n",
              "  </tbody>\n",
              "</table>\n",
              "</div>"
            ]
          },
          "metadata": {}
        }
      ],
      "execution_count": 57,
      "metadata": {
        "collapsed": false,
        "outputHidden": false,
        "inputHidden": false
      }
    },
    {
      "cell_type": "code",
      "source": [
        "votemod.fit(X,Y)\n",
        "ypred=votemod.predict(test)"
      ],
      "outputs": [],
      "execution_count": 118,
      "metadata": {
        "collapsed": false,
        "outputHidden": false,
        "inputHidden": false
      }
    },
    {
      "cell_type": "code",
      "source": [],
      "outputs": [],
      "execution_count": 119,
      "metadata": {
        "collapsed": false,
        "outputHidden": false,
        "inputHidden": false
      }
    },
    {
      "cell_type": "code",
      "source": [
        "sample['Loan_Status']=ypred"
      ],
      "outputs": [],
      "execution_count": 119,
      "metadata": {
        "collapsed": false,
        "outputHidden": false,
        "inputHidden": false
      }
    },
    {
      "cell_type": "code",
      "source": [
        "sample['Loan_ID']=ID"
      ],
      "outputs": [],
      "execution_count": 120,
      "metadata": {
        "collapsed": false,
        "outputHidden": false,
        "inputHidden": false
      }
    },
    {
      "cell_type": "code",
      "source": [
        "sample['Loan_Status'].value_counts()"
      ],
      "outputs": [
        {
          "output_type": "execute_result",
          "execution_count": 121,
          "data": {
            "text/plain": [
              "1    288\n",
              "0     79\n",
              "Name: Loan_Status, dtype: int64"
            ]
          },
          "metadata": {}
        }
      ],
      "execution_count": 121,
      "metadata": {
        "collapsed": false,
        "outputHidden": false,
        "inputHidden": false
      }
    },
    {
      "cell_type": "code",
      "source": [
        "sample.head()"
      ],
      "outputs": [
        {
          "output_type": "execute_result",
          "execution_count": 125,
          "data": {
            "text/plain": [
              "    Loan_ID Loan_Status\n",
              "0  LP001015           Y\n",
              "1  LP001022           Y\n",
              "2  LP001031           Y\n",
              "3  LP001035           Y\n",
              "4  LP001051           Y"
            ],
            "text/html": [
              "<div>\n",
              "<style scoped>\n",
              "    .dataframe tbody tr th:only-of-type {\n",
              "        vertical-align: middle;\n",
              "    }\n",
              "\n",
              "    .dataframe tbody tr th {\n",
              "        vertical-align: top;\n",
              "    }\n",
              "\n",
              "    .dataframe thead th {\n",
              "        text-align: right;\n",
              "    }\n",
              "</style>\n",
              "<table border=\"1\" class=\"dataframe\">\n",
              "  <thead>\n",
              "    <tr style=\"text-align: right;\">\n",
              "      <th></th>\n",
              "      <th>Loan_ID</th>\n",
              "      <th>Loan_Status</th>\n",
              "    </tr>\n",
              "  </thead>\n",
              "  <tbody>\n",
              "    <tr>\n",
              "      <th>0</th>\n",
              "      <td>LP001015</td>\n",
              "      <td>Y</td>\n",
              "    </tr>\n",
              "    <tr>\n",
              "      <th>1</th>\n",
              "      <td>LP001022</td>\n",
              "      <td>Y</td>\n",
              "    </tr>\n",
              "    <tr>\n",
              "      <th>2</th>\n",
              "      <td>LP001031</td>\n",
              "      <td>Y</td>\n",
              "    </tr>\n",
              "    <tr>\n",
              "      <th>3</th>\n",
              "      <td>LP001035</td>\n",
              "      <td>Y</td>\n",
              "    </tr>\n",
              "    <tr>\n",
              "      <th>4</th>\n",
              "      <td>LP001051</td>\n",
              "      <td>Y</td>\n",
              "    </tr>\n",
              "  </tbody>\n",
              "</table>\n",
              "</div>"
            ]
          },
          "metadata": {}
        }
      ],
      "execution_count": 125,
      "metadata": {
        "collapsed": false,
        "outputHidden": false,
        "inputHidden": false
      }
    },
    {
      "cell_type": "code",
      "source": [
        "sample.to_csv('submis.csv',index=False)"
      ],
      "outputs": [],
      "execution_count": 126,
      "metadata": {
        "collapsed": false,
        "outputHidden": false,
        "inputHidden": false
      }
    },
    {
      "cell_type": "code",
      "source": [
        "sample['Loan_Status']=sample['Loan_Status'].apply(lambda x:'Y' if x==1 else 'N')"
      ],
      "outputs": [],
      "execution_count": 124,
      "metadata": {
        "collapsed": false,
        "outputHidden": false,
        "inputHidden": false
      }
    },
    {
      "cell_type": "code",
      "source": [],
      "outputs": [],
      "execution_count": null,
      "metadata": {
        "collapsed": false,
        "outputHidden": false,
        "inputHidden": false
      }
    }
  ],
  "metadata": {
    "kernel_info": {
      "name": "python3"
    },
    "language_info": {
      "name": "python",
      "version": "3.6.5",
      "mimetype": "text/x-python",
      "codemirror_mode": {
        "name": "ipython",
        "version": 3
      },
      "pygments_lexer": "ipython3",
      "nbconvert_exporter": "python",
      "file_extension": ".py"
    },
    "kernelspec": {
      "name": "python3",
      "language": "python",
      "display_name": "Python 3"
    },
    "nteract": {
      "version": "0.11.6"
    }
  },
  "nbformat": 4,
  "nbformat_minor": 4
}