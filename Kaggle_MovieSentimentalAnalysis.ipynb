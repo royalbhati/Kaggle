{
  "nbformat": 4,
  "nbformat_minor": 0,
  "metadata": {
    "colab": {
      "name": "Kaggle-MovieSentimentalAnalysis",
      "version": "0.3.2",
      "views": {},
      "default_view": {},
      "provenance": [],
      "collapsed_sections": []
    },
    "kernelspec": {
      "name": "python3",
      "display_name": "Python 3"
    },
    "accelerator": "GPU"
  },
  "cells": [
    {
      "metadata": {
        "id": "ZCLM7DYCGIVg",
        "colab_type": "code",
        "colab": {
          "autoexec": {
            "startup": false,
            "wait_interval": 0
          }
        }
      },
      "cell_type": "code",
      "source": [
        "import matplotlib.pyplot as plt\n",
        "import tensorflow as tf\n",
        "import numpy as np\n",
        "import warnings\n",
        "warnings.filterwarnings('ignore')\n",
        "from scipy.spatial.distance import cdist\n",
        "# from tf.keras.models import Sequential  # This does not work!\n",
        "from keras.models import Sequential\n",
        "from keras.layers import Dense, GRU, Embedding,LSTM\n",
        "from keras.optimizers import Adam\n",
        "from keras.preprocessing.text import Tokenizer\n",
        "from keras.preprocessing.sequence import pad_sequences"
      ],
      "execution_count": 0,
      "outputs": []
    },
    {
      "metadata": {
        "id": "vZQQHLJQGOkM",
        "colab_type": "code",
        "colab": {
          "autoexec": {
            "startup": false,
            "wait_interval": 0
          },
          "base_uri": "https://localhost:8080/",
          "height": 107
        },
        "outputId": "07eded31-3c9e-4c64-d505-ad7781125fc8",
        "executionInfo": {
          "status": "ok",
          "timestamp": 1531913473857,
          "user_tz": -330,
          "elapsed": 3758,
          "user": {
            "displayName": "Royal Bhati",
            "photoUrl": "//lh5.googleusercontent.com/-s6WQZwbOemQ/AAAAAAAAAAI/AAAAAAAAAR8/TjmSXPBeMv8/s50-c-k-no/photo.jpg",
            "userId": "103156158870719169777"
          }
        }
      },
      "cell_type": "code",
      "source": [
        ""
      ],
      "execution_count": 14,
      "outputs": [
        {
          "output_type": "stream",
          "text": [
            "Cloning into 'data'...\n",
            "remote: Counting objects: 25, done.\u001b[K\n",
            "remote: Compressing objects: 100% (23/23), done.\u001b[K\n",
            "remote: Total 25 (delta 6), reused 0 (delta 0), pack-reused 0\u001b[K\n",
            "Unpacking objects: 100% (25/25), done.\n"
          ],
          "name": "stdout"
        }
      ]
    },
    {
      "metadata": {
        "id": "hHCtbIKeIEVg",
        "colab_type": "code",
        "colab": {
          "autoexec": {
            "startup": false,
            "wait_interval": 0
          },
          "base_uri": "https://localhost:8080/",
          "height": 35
        },
        "outputId": "83337623-422a-45eb-a6ab-bba8ec0ddc77",
        "executionInfo": {
          "status": "ok",
          "timestamp": 1531913554367,
          "user_tz": -330,
          "elapsed": 1312,
          "user": {
            "displayName": "Royal Bhati",
            "photoUrl": "//lh5.googleusercontent.com/-s6WQZwbOemQ/AAAAAAAAAAI/AAAAAAAAAR8/TjmSXPBeMv8/s50-c-k-no/photo.jpg",
            "userId": "103156158870719169777"
          }
        }
      },
      "cell_type": "code",
      "source": [
        "cd all"
      ],
      "execution_count": 18,
      "outputs": [
        {
          "output_type": "stream",
          "text": [
            "/home/data/all\n"
          ],
          "name": "stdout"
        }
      ]
    },
    {
      "metadata": {
        "id": "MLyRQgRiI9li",
        "colab_type": "code",
        "colab": {
          "autoexec": {
            "startup": false,
            "wait_interval": 0
          }
        }
      },
      "cell_type": "code",
      "source": [
        "import pandas as pd\n",
        "import seaborn as sns"
      ],
      "execution_count": 0,
      "outputs": []
    },
    {
      "metadata": {
        "id": "ce-L5Pi2KUPu",
        "colab_type": "code",
        "colab": {
          "autoexec": {
            "startup": false,
            "wait_interval": 0
          }
        }
      },
      "cell_type": "code",
      "source": [
        "train=pd.read_csv('train.tsv',sep='\\t')\n",
        "test=pd.read_csv('test.tsv',sep='\\t')\n",
        "sample=pd.read_csv('sampleSubmission.csv')"
      ],
      "execution_count": 0,
      "outputs": []
    },
    {
      "metadata": {
        "id": "hbL5FajGKnrC",
        "colab_type": "code",
        "colab": {
          "autoexec": {
            "startup": false,
            "wait_interval": 0
          },
          "base_uri": "https://localhost:8080/",
          "height": 204
        },
        "outputId": "3e4e53bf-f631-4077-c0bd-c6af05d26f2b",
        "executionInfo": {
          "status": "ok",
          "timestamp": 1531913605944,
          "user_tz": -330,
          "elapsed": 824,
          "user": {
            "displayName": "Royal Bhati",
            "photoUrl": "//lh5.googleusercontent.com/-s6WQZwbOemQ/AAAAAAAAAAI/AAAAAAAAAR8/TjmSXPBeMv8/s50-c-k-no/photo.jpg",
            "userId": "103156158870719169777"
          }
        }
      },
      "cell_type": "code",
      "source": [
        "train.head()"
      ],
      "execution_count": 20,
      "outputs": [
        {
          "output_type": "execute_result",
          "data": {
            "text/html": [
              "<div>\n",
              "<style scoped>\n",
              "    .dataframe tbody tr th:only-of-type {\n",
              "        vertical-align: middle;\n",
              "    }\n",
              "\n",
              "    .dataframe tbody tr th {\n",
              "        vertical-align: top;\n",
              "    }\n",
              "\n",
              "    .dataframe thead th {\n",
              "        text-align: right;\n",
              "    }\n",
              "</style>\n",
              "<table border=\"1\" class=\"dataframe\">\n",
              "  <thead>\n",
              "    <tr style=\"text-align: right;\">\n",
              "      <th></th>\n",
              "      <th>PhraseId</th>\n",
              "      <th>SentenceId</th>\n",
              "      <th>Phrase</th>\n",
              "      <th>Sentiment</th>\n",
              "    </tr>\n",
              "  </thead>\n",
              "  <tbody>\n",
              "    <tr>\n",
              "      <th>0</th>\n",
              "      <td>1</td>\n",
              "      <td>1</td>\n",
              "      <td>A series of escapades demonstrating the adage ...</td>\n",
              "      <td>1</td>\n",
              "    </tr>\n",
              "    <tr>\n",
              "      <th>1</th>\n",
              "      <td>2</td>\n",
              "      <td>1</td>\n",
              "      <td>A series of escapades demonstrating the adage ...</td>\n",
              "      <td>2</td>\n",
              "    </tr>\n",
              "    <tr>\n",
              "      <th>2</th>\n",
              "      <td>3</td>\n",
              "      <td>1</td>\n",
              "      <td>A series</td>\n",
              "      <td>2</td>\n",
              "    </tr>\n",
              "    <tr>\n",
              "      <th>3</th>\n",
              "      <td>4</td>\n",
              "      <td>1</td>\n",
              "      <td>A</td>\n",
              "      <td>2</td>\n",
              "    </tr>\n",
              "    <tr>\n",
              "      <th>4</th>\n",
              "      <td>5</td>\n",
              "      <td>1</td>\n",
              "      <td>series</td>\n",
              "      <td>2</td>\n",
              "    </tr>\n",
              "  </tbody>\n",
              "</table>\n",
              "</div>"
            ],
            "text/plain": [
              "   PhraseId  SentenceId                                             Phrase  \\\n",
              "0         1           1  A series of escapades demonstrating the adage ...   \n",
              "1         2           1  A series of escapades demonstrating the adage ...   \n",
              "2         3           1                                           A series   \n",
              "3         4           1                                                  A   \n",
              "4         5           1                                             series   \n",
              "\n",
              "   Sentiment  \n",
              "0          1  \n",
              "1          2  \n",
              "2          2  \n",
              "3          2  \n",
              "4          2  "
            ]
          },
          "metadata": {
            "tags": []
          },
          "execution_count": 20
        }
      ]
    },
    {
      "metadata": {
        "id": "bVkXbXdYKo9L",
        "colab_type": "code",
        "colab": {
          "autoexec": {
            "startup": false,
            "wait_interval": 0
          },
          "base_uri": "https://localhost:8080/",
          "height": 204
        },
        "outputId": "80f8ad90-b878-4bdb-a032-473e0bfc871b",
        "executionInfo": {
          "status": "ok",
          "timestamp": 1531913679558,
          "user_tz": -330,
          "elapsed": 1118,
          "user": {
            "displayName": "Royal Bhati",
            "photoUrl": "//lh5.googleusercontent.com/-s6WQZwbOemQ/AAAAAAAAAAI/AAAAAAAAAR8/TjmSXPBeMv8/s50-c-k-no/photo.jpg",
            "userId": "103156158870719169777"
          }
        }
      },
      "cell_type": "code",
      "source": [
        "sample.head()"
      ],
      "execution_count": 22,
      "outputs": [
        {
          "output_type": "execute_result",
          "data": {
            "text/html": [
              "<div>\n",
              "<style scoped>\n",
              "    .dataframe tbody tr th:only-of-type {\n",
              "        vertical-align: middle;\n",
              "    }\n",
              "\n",
              "    .dataframe tbody tr th {\n",
              "        vertical-align: top;\n",
              "    }\n",
              "\n",
              "    .dataframe thead th {\n",
              "        text-align: right;\n",
              "    }\n",
              "</style>\n",
              "<table border=\"1\" class=\"dataframe\">\n",
              "  <thead>\n",
              "    <tr style=\"text-align: right;\">\n",
              "      <th></th>\n",
              "      <th>PhraseId</th>\n",
              "      <th>Sentiment</th>\n",
              "    </tr>\n",
              "  </thead>\n",
              "  <tbody>\n",
              "    <tr>\n",
              "      <th>0</th>\n",
              "      <td>156061</td>\n",
              "      <td>2</td>\n",
              "    </tr>\n",
              "    <tr>\n",
              "      <th>1</th>\n",
              "      <td>156062</td>\n",
              "      <td>2</td>\n",
              "    </tr>\n",
              "    <tr>\n",
              "      <th>2</th>\n",
              "      <td>156063</td>\n",
              "      <td>2</td>\n",
              "    </tr>\n",
              "    <tr>\n",
              "      <th>3</th>\n",
              "      <td>156064</td>\n",
              "      <td>2</td>\n",
              "    </tr>\n",
              "    <tr>\n",
              "      <th>4</th>\n",
              "      <td>156065</td>\n",
              "      <td>2</td>\n",
              "    </tr>\n",
              "  </tbody>\n",
              "</table>\n",
              "</div>"
            ],
            "text/plain": [
              "   PhraseId  Sentiment\n",
              "0    156061          2\n",
              "1    156062          2\n",
              "2    156063          2\n",
              "3    156064          2\n",
              "4    156065          2"
            ]
          },
          "metadata": {
            "tags": []
          },
          "execution_count": 22
        }
      ]
    },
    {
      "metadata": {
        "id": "I_Njy0G9K63Z",
        "colab_type": "code",
        "colab": {
          "autoexec": {
            "startup": false,
            "wait_interval": 0
          },
          "base_uri": "https://localhost:8080/",
          "height": 35
        },
        "outputId": "0896df89-f989-4d26-f151-421520058cc6",
        "executionInfo": {
          "status": "ok",
          "timestamp": 1531913725260,
          "user_tz": -330,
          "elapsed": 1080,
          "user": {
            "displayName": "Royal Bhati",
            "photoUrl": "//lh5.googleusercontent.com/-s6WQZwbOemQ/AAAAAAAAAAI/AAAAAAAAAR8/TjmSXPBeMv8/s50-c-k-no/photo.jpg",
            "userId": "103156158870719169777"
          }
        }
      },
      "cell_type": "code",
      "source": [
        "train['Sentiment'].unique()"
      ],
      "execution_count": 25,
      "outputs": [
        {
          "output_type": "execute_result",
          "data": {
            "text/plain": [
              "array([1, 2, 3, 4, 0])"
            ]
          },
          "metadata": {
            "tags": []
          },
          "execution_count": 25
        }
      ]
    },
    {
      "metadata": {
        "id": "d_GMTBG_LCL8",
        "colab_type": "code",
        "colab": {
          "autoexec": {
            "startup": false,
            "wait_interval": 0
          },
          "base_uri": "https://localhost:8080/",
          "height": 376
        },
        "outputId": "e154fd0f-b664-4298-cd28-0a2dbc35ded7",
        "executionInfo": {
          "status": "ok",
          "timestamp": 1531913858060,
          "user_tz": -330,
          "elapsed": 1075,
          "user": {
            "displayName": "Royal Bhati",
            "photoUrl": "//lh5.googleusercontent.com/-s6WQZwbOemQ/AAAAAAAAAAI/AAAAAAAAAR8/TjmSXPBeMv8/s50-c-k-no/photo.jpg",
            "userId": "103156158870719169777"
          }
        }
      },
      "cell_type": "code",
      "source": [
        "sns.countplot(train['Sentiment']).set_title(\"Count plot for sentiment classes\")\n",
        "plt.show()"
      ],
      "execution_count": 29,
      "outputs": [
        {
          "output_type": "display_data",
          "data": {
            "image/png": "[encoded data removed]",
            "text/plain": [
              "<matplotlib.figure.Figure at 0x7f0003bceef0>"
            ]
          },
          "metadata": {
            "tags": []
          }
        }
      ]
    },
    {
      "metadata": {
        "id": "ixafNZb-Lf65",
        "colab_type": "code",
        "colab": {
          "autoexec": {
            "startup": false,
            "wait_interval": 0
          },
          "base_uri": "https://localhost:8080/",
          "height": 53
        },
        "outputId": "10f984d6-8c53-4a0f-db44-0c82f5c79928",
        "executionInfo": {
          "status": "ok",
          "timestamp": 1531913915538,
          "user_tz": -330,
          "elapsed": 820,
          "user": {
            "displayName": "Royal Bhati",
            "photoUrl": "//lh5.googleusercontent.com/-s6WQZwbOemQ/AAAAAAAAAAI/AAAAAAAAAR8/TjmSXPBeMv8/s50-c-k-no/photo.jpg",
            "userId": "103156158870719169777"
          }
        }
      },
      "cell_type": "code",
      "source": [
        "print(\"Train-set size: \", len(train))\n",
        "print(\"Test-set size:  \", len(test))"
      ],
      "execution_count": 31,
      "outputs": [
        {
          "output_type": "stream",
          "text": [
            "Train-set size:  156060\n",
            "Test-set size:   66292\n"
          ],
          "name": "stdout"
        }
      ]
    },
    {
      "metadata": {
        "id": "yDyX8_4jLyYF",
        "colab_type": "code",
        "colab": {
          "autoexec": {
            "startup": false,
            "wait_interval": 0
          }
        }
      },
      "cell_type": "code",
      "source": [
        "tokenizer = Tokenizer(num_words=10000)\n"
      ],
      "execution_count": 0,
      "outputs": []
    },
    {
      "metadata": {
        "id": "Jp7T49J1L8nv",
        "colab_type": "code",
        "colab": {
          "autoexec": {
            "startup": false,
            "wait_interval": 0
          }
        }
      },
      "cell_type": "code",
      "source": [
        "tokenizer.fit_on_texts(train['Phrase'])\n"
      ],
      "execution_count": 0,
      "outputs": []
    },
    {
      "metadata": {
        "id": "eYZ8D--zMNbD",
        "colab_type": "code",
        "colab": {
          "autoexec": {
            "startup": false,
            "wait_interval": 0
          },
          "base_uri": "https://localhost:8080/",
          "height": 18035
        },
        "outputId": "c9243d27-9b2c-4b50-be40-6410860b5486",
        "executionInfo": {
          "status": "ok",
          "timestamp": 1531914085680,
          "user_tz": -330,
          "elapsed": 1060,
          "user": {
            "displayName": "Royal Bhati",
            "photoUrl": "//lh5.googleusercontent.com/-s6WQZwbOemQ/AAAAAAAAAAI/AAAAAAAAAR8/TjmSXPBeMv8/s50-c-k-no/photo.jpg",
            "userId": "103156158870719169777"
          }
        }
      },
      "cell_type": "code",
      "source": [
        "tokenizer.word_index\n"
      ],
      "execution_count": 36,
      "outputs": [
        {
          "output_type": "execute_result",
          "data": {
            "text/plain": [
              "{'the': 1,\n",
              " 'a': 2,\n",
              " 'of': 3,\n",
              " 'and': 4,\n",
              " 'to': 5,\n",
              " \"'s\": 6,\n",
              " 'in': 7,\n",
              " 'is': 8,\n",
              " 'that': 9,\n",
              " 'it': 10,\n",
              " 'as': 11,\n",
              " 'with': 12,\n",
              " 'for': 13,\n",
              " 'its': 14,\n",
              " 'film': 15,\n",
              " 'an': 16,\n",
              " 'movie': 17,\n",
              " 'this': 18,\n",
              " 'but': 19,\n",
              " 'be': 20,\n",
              " 'on': 21,\n",
              " 'you': 22,\n",
              " 'by': 23,\n",
              " \"n't\": 24,\n",
              " 'more': 25,\n",
              " 'his': 26,\n",
              " 'one': 27,\n",
              " 'about': 28,\n",
              " 'not': 29,\n",
              " 'at': 30,\n",
              " 'or': 31,\n",
              " 'than': 32,\n",
              " 'from': 33,\n",
              " 'all': 34,\n",
              " 'like': 35,\n",
              " 'have': 36,\n",
              " 'are': 37,\n",
              " 'has': 38,\n",
              " \"'\": 39,\n",
              " 'so': 40,\n",
              " 'out': 41,\n",
              " 'story': 42,\n",
              " 'rrb': 43,\n",
              " 'up': 44,\n",
              " 'who': 45,\n",
              " 'good': 46,\n",
              " 'too': 47,\n",
              " 'most': 48,\n",
              " 'into': 49,\n",
              " 'lrb': 50,\n",
              " 'if': 51,\n",
              " 'what': 52,\n",
              " 'time': 53,\n",
              " 'their': 54,\n",
              " 'no': 55,\n",
              " 'characters': 56,\n",
              " 'much': 57,\n",
              " \"''\": 58,\n",
              " 'comedy': 59,\n",
              " 'i': 60,\n",
              " 'your': 61,\n",
              " 'can': 62,\n",
              " 'just': 63,\n",
              " 'life': 64,\n",
              " 'some': 65,\n",
              " 'does': 66,\n",
              " 'even': 67,\n",
              " 'little': 68,\n",
              " 'funny': 69,\n",
              " 'will': 70,\n",
              " 'well': 71,\n",
              " 'way': 72,\n",
              " 'very': 73,\n",
              " 'been': 74,\n",
              " 'any': 75,\n",
              " 'make': 76,\n",
              " 'only': 77,\n",
              " 'which': 78,\n",
              " 'he': 79,\n",
              " 'movies': 80,\n",
              " 'director': 81,\n",
              " 'love': 82,\n",
              " 'do': 83,\n",
              " 'new': 84,\n",
              " 'bad': 85,\n",
              " 'there': 86,\n",
              " 'work': 87,\n",
              " 'enough': 88,\n",
              " 'her': 89,\n",
              " 'was': 90,\n",
              " 'us': 91,\n",
              " 'own': 92,\n",
              " 'they': 93,\n",
              " 'made': 94,\n",
              " 'old': 95,\n",
              " 'action': 96,\n",
              " 'two': 97,\n",
              " 'something': 98,\n",
              " 'other': 99,\n",
              " 'would': 100,\n",
              " 'best': 101,\n",
              " 'through': 102,\n",
              " 'never': 103,\n",
              " 'we': 104,\n",
              " 'many': 105,\n",
              " 'off': 106,\n",
              " 'people': 107,\n",
              " 'when': 108,\n",
              " 'self': 109,\n",
              " 'makes': 110,\n",
              " 'character': 111,\n",
              " 'them': 112,\n",
              " 'how': 113,\n",
              " 'world': 114,\n",
              " 'first': 115,\n",
              " 'over': 116,\n",
              " 'may': 117,\n",
              " 'plot': 118,\n",
              " 'see': 119,\n",
              " 'films': 120,\n",
              " 'drama': 121,\n",
              " 'could': 122,\n",
              " 'being': 123,\n",
              " 'better': 124,\n",
              " 'audience': 125,\n",
              " 'long': 126,\n",
              " 'look': 127,\n",
              " 'big': 128,\n",
              " 'sense': 129,\n",
              " 'really': 130,\n",
              " 'those': 131,\n",
              " 'man': 132,\n",
              " 'feel': 133,\n",
              " 'without': 134,\n",
              " 'real': 135,\n",
              " 'great': 136,\n",
              " 'every': 137,\n",
              " 'humor': 138,\n",
              " 'screen': 139,\n",
              " 'few': 140,\n",
              " 'year': 141,\n",
              " 'another': 142,\n",
              " 'should': 143,\n",
              " \"'re\": 144,\n",
              " 'ever': 145,\n",
              " 'minutes': 146,\n",
              " 'get': 147,\n",
              " 'such': 148,\n",
              " 'hollywood': 149,\n",
              " 'both': 150,\n",
              " 'still': 151,\n",
              " 'performances': 152,\n",
              " 'cast': 153,\n",
              " 'fun': 154,\n",
              " 'down': 155,\n",
              " 'human': 156,\n",
              " 'family': 157,\n",
              " 'nothing': 158,\n",
              " 'while': 159,\n",
              " 'between': 160,\n",
              " 'hard': 161,\n",
              " 'heart': 162,\n",
              " 'less': 163,\n",
              " 'performance': 164,\n",
              " 'often': 165,\n",
              " 'might': 166,\n",
              " 'american': 167,\n",
              " 'things': 168,\n",
              " 'were': 169,\n",
              " 'far': 170,\n",
              " 'kind': 171,\n",
              " 'had': 172,\n",
              " 'these': 173,\n",
              " 'moments': 174,\n",
              " 'script': 175,\n",
              " 'acting': 176,\n",
              " 'also': 177,\n",
              " 'after': 178,\n",
              " 'seen': 179,\n",
              " 'back': 180,\n",
              " 'end': 181,\n",
              " 'our': 182,\n",
              " 'before': 183,\n",
              " 'interesting': 184,\n",
              " 'original': 185,\n",
              " 'rather': 186,\n",
              " 'because': 187,\n",
              " 'young': 188,\n",
              " 'right': 189,\n",
              " 'watch': 190,\n",
              " 'almost': 191,\n",
              " 'full': 192,\n",
              " 'emotional': 193,\n",
              " 'entertaining': 194,\n",
              " 'thriller': 195,\n",
              " 'material': 196,\n",
              " 'my': 197,\n",
              " 'picture': 198,\n",
              " 'go': 199,\n",
              " 'cinema': 200,\n",
              " 'actors': 201,\n",
              " 'here': 202,\n",
              " 'war': 203,\n",
              " 'scenes': 204,\n",
              " 'dialogue': 205,\n",
              " 'music': 206,\n",
              " 'take': 207,\n",
              " 'find': 208,\n",
              " 'tale': 209,\n",
              " \"'ve\": 210,\n",
              " 'lot': 211,\n",
              " 'quite': 212,\n",
              " 'times': 213,\n",
              " 'half': 214,\n",
              " 'me': 215,\n",
              " 'yet': 216,\n",
              " 'romantic': 217,\n",
              " 'come': 218,\n",
              " 'watching': 219,\n",
              " 'itself': 220,\n",
              " 'years': 221,\n",
              " 'star': 222,\n",
              " 'same': 223,\n",
              " 'style': 224,\n",
              " 'going': 225,\n",
              " 'documentary': 226,\n",
              " 'him': 227,\n",
              " 'making': 228,\n",
              " 'thing': 229,\n",
              " 'kids': 230,\n",
              " 'comes': 231,\n",
              " 'high': 232,\n",
              " 'special': 233,\n",
              " 'give': 234,\n",
              " 'subject': 235,\n",
              " 'worth': 236,\n",
              " 'seems': 237,\n",
              " 'dark': 238,\n",
              " 'ca': 239,\n",
              " 'point': 240,\n",
              " 'women': 241,\n",
              " 'last': 242,\n",
              " 'though': 243,\n",
              " 'history': 244,\n",
              " \"'ll\": 245,\n",
              " 'art': 246,\n",
              " 'where': 247,\n",
              " 'comic': 248,\n",
              " 'feels': 249,\n",
              " 'seem': 250,\n",
              " 'three': 251,\n",
              " 'anything': 252,\n",
              " 'did': 253,\n",
              " 'video': 254,\n",
              " 'compelling': 255,\n",
              " 'show': 256,\n",
              " 'keep': 257,\n",
              " 'least': 258,\n",
              " 'works': 259,\n",
              " 'hour': 260,\n",
              " 'bit': 261,\n",
              " 'want': 262,\n",
              " 'visual': 263,\n",
              " 'around': 264,\n",
              " 'care': 265,\n",
              " 'ultimately': 266,\n",
              " 'together': 267,\n",
              " 'takes': 268,\n",
              " 'think': 269,\n",
              " 'sometimes': 270,\n",
              " 'sweet': 271,\n",
              " 'true': 272,\n",
              " 'entertainment': 273,\n",
              " 'familiar': 274,\n",
              " 'actually': 275,\n",
              " 'writer': 276,\n",
              " 'say': 277,\n",
              " 'away': 278,\n",
              " 'day': 279,\n",
              " 'gets': 280,\n",
              " 'under': 281,\n",
              " 'place': 282,\n",
              " 'looking': 283,\n",
              " 'pretty': 284,\n",
              " 'feature': 285,\n",
              " 'again': 286,\n",
              " 'fans': 287,\n",
              " 'piece': 288,\n",
              " 'direction': 289,\n",
              " 'she': 290,\n",
              " 'need': 291,\n",
              " 'moving': 292,\n",
              " 'low': 293,\n",
              " 'part': 294,\n",
              " 'genre': 295,\n",
              " 'flick': 296,\n",
              " 'know': 297,\n",
              " 'why': 298,\n",
              " 'face': 299,\n",
              " 'once': 300,\n",
              " 'set': 301,\n",
              " 'then': 302,\n",
              " 'dull': 303,\n",
              " 'experience': 304,\n",
              " 'nearly': 305,\n",
              " 'tv': 306,\n",
              " 'anyone': 307,\n",
              " 'fascinating': 308,\n",
              " 'cinematic': 309,\n",
              " 'culture': 310,\n",
              " 'laughs': 311,\n",
              " 'lives': 312,\n",
              " 'clever': 313,\n",
              " 'short': 314,\n",
              " 'children': 315,\n",
              " 'matter': 316,\n",
              " 'done': 317,\n",
              " 'theater': 318,\n",
              " 'narrative': 319,\n",
              " 'gives': 320,\n",
              " 'light': 321,\n",
              " 'modern': 322,\n",
              " 'series': 323,\n",
              " 'idea': 324,\n",
              " 'summer': 325,\n",
              " 'silly': 326,\n",
              " 'horror': 327,\n",
              " 'whose': 328,\n",
              " 'men': 329,\n",
              " 'age': 330,\n",
              " 'screenplay': 331,\n",
              " 'each': 332,\n",
              " 'trying': 333,\n",
              " 'book': 334,\n",
              " 'effects': 335,\n",
              " 'premise': 336,\n",
              " 'since': 337,\n",
              " 'minute': 338,\n",
              " 'power': 339,\n",
              " 'black': 340,\n",
              " 'smart': 341,\n",
              " 'interest': 342,\n",
              " 'study': 343,\n",
              " 'girl': 344,\n",
              " 'title': 345,\n",
              " 'whole': 346,\n",
              " 'mind': 347,\n",
              " 'enjoyable': 348,\n",
              " 'easy': 349,\n",
              " 'dramatic': 350,\n",
              " 'amusing': 351,\n",
              " 'small': 352,\n",
              " 'middle': 353,\n",
              " 'simply': 354,\n",
              " 'level': 355,\n",
              " 'coming': 356,\n",
              " 'energy': 357,\n",
              " 'woman': 358,\n",
              " 'strong': 359,\n",
              " 'especially': 360,\n",
              " 'always': 361,\n",
              " 'powerful': 362,\n",
              " 'everything': 363,\n",
              " 'filmmakers': 364,\n",
              " 'camera': 365,\n",
              " 'hours': 366,\n",
              " 'himself': 367,\n",
              " 'beautiful': 368,\n",
              " 'spirit': 369,\n",
              " 'engaging': 370,\n",
              " 'next': 371,\n",
              " 'political': 372,\n",
              " 'predictable': 373,\n",
              " 'obvious': 374,\n",
              " 'french': 375,\n",
              " 'stories': 376,\n",
              " 'worst': 377,\n",
              " 'goes': 378,\n",
              " 'perfect': 379,\n",
              " 'social': 380,\n",
              " 'live': 381,\n",
              " 'tone': 382,\n",
              " 'head': 383,\n",
              " 'john': 384,\n",
              " 'wit': 385,\n",
              " 'romance': 386,\n",
              " 'past': 387,\n",
              " 'serious': 388,\n",
              " 'line': 389,\n",
              " 'surprisingly': 390,\n",
              " 'filmmaking': 391,\n",
              " 'effort': 392,\n",
              " 'classic': 393,\n",
              " 'mr': 394,\n",
              " 'thought': 395,\n",
              " 'become': 396,\n",
              " 'feeling': 397,\n",
              " 'portrait': 398,\n",
              " 'instead': 399,\n",
              " 'death': 400,\n",
              " 'school': 401,\n",
              " 'probably': 402,\n",
              " 'opera': 403,\n",
              " \"'d\": 404,\n",
              " 'intelligence': 405,\n",
              " 'side': 406,\n",
              " 'version': 407,\n",
              " 'fresh': 408,\n",
              " 'either': 409,\n",
              " 'exercise': 410,\n",
              " 'manages': 411,\n",
              " 'actor': 412,\n",
              " 'run': 413,\n",
              " 'intelligent': 414,\n",
              " 'everyone': 415,\n",
              " 'melodrama': 416,\n",
              " 'stand': 417,\n",
              " 'recent': 418,\n",
              " 'turn': 419,\n",
              " 'debut': 420,\n",
              " 'reason': 421,\n",
              " 'written': 422,\n",
              " 'quirky': 423,\n",
              " 'laugh': 424,\n",
              " 'now': 425,\n",
              " 'offers': 426,\n",
              " 'ideas': 427,\n",
              " 'charming': 428,\n",
              " 'solid': 429,\n",
              " 'believe': 430,\n",
              " 'stuff': 431,\n",
              " 'suspense': 432,\n",
              " 'charm': 433,\n",
              " 'home': 434,\n",
              " 'teen': 435,\n",
              " 'truly': 436,\n",
              " 'despite': 437,\n",
              " 'leave': 438,\n",
              " 'sort': 439,\n",
              " 'project': 440,\n",
              " 'cold': 441,\n",
              " 'audiences': 442,\n",
              " 'enjoy': 443,\n",
              " 'boy': 444,\n",
              " 'message': 445,\n",
              " 'else': 446,\n",
              " 'likely': 447,\n",
              " 'beyond': 448,\n",
              " 'rich': 449,\n",
              " 'fine': 450,\n",
              " 'reality': 451,\n",
              " 'crime': 452,\n",
              " 'becomes': 453,\n",
              " 'lack': 454,\n",
              " 'filmmaker': 455,\n",
              " 'sex': 456,\n",
              " 'jokes': 457,\n",
              " 'dead': 458,\n",
              " 'tragedy': 459,\n",
              " 'ways': 460,\n",
              " 'flat': 461,\n",
              " 'play': 462,\n",
              " 'personal': 463,\n",
              " 'wo': 464,\n",
              " 'de': 465,\n",
              " 'storytelling': 466,\n",
              " 'already': 467,\n",
              " 'directed': 468,\n",
              " 'left': 469,\n",
              " 'ending': 470,\n",
              " 'role': 471,\n",
              " 'deeply': 472,\n",
              " 'impossible': 473,\n",
              " 'slow': 474,\n",
              " 'plays': 475,\n",
              " 'class': 476,\n",
              " 'turns': 477,\n",
              " 'different': 478,\n",
              " 'gags': 479,\n",
              " 'shot': 480,\n",
              " 'sure': 481,\n",
              " 'adventure': 482,\n",
              " 'eyes': 483,\n",
              " 'themselves': 484,\n",
              " 'put': 485,\n",
              " 'scene': 486,\n",
              " 'top': 487,\n",
              " 'michael': 488,\n",
              " 'act': 489,\n",
              " 'inside': 490,\n",
              " 'above': 491,\n",
              " 'rare': 492,\n",
              " 'complex': 493,\n",
              " 'thin': 494,\n",
              " 'moral': 495,\n",
              " 'deep': 496,\n",
              " 'otherwise': 497,\n",
              " 'pleasure': 498,\n",
              " 'running': 499,\n",
              " 'particularly': 500,\n",
              " 'images': 501,\n",
              " 'sad': 502,\n",
              " 'house': 503,\n",
              " 'against': 504,\n",
              " 'boring': 505,\n",
              " 'ride': 506,\n",
              " 'pop': 507,\n",
              " 'concept': 508,\n",
              " 'imagination': 509,\n",
              " 'satisfying': 510,\n",
              " 'animation': 511,\n",
              " 'nature': 512,\n",
              " 'viewer': 513,\n",
              " 'b': 514,\n",
              " 'mystery': 515,\n",
              " 'working': 516,\n",
              " 'honest': 517,\n",
              " 'dumb': 518,\n",
              " 'talent': 519,\n",
              " 'must': 520,\n",
              " 'sequences': 521,\n",
              " 'during': 522,\n",
              " 'looks': 523,\n",
              " 'hilarious': 524,\n",
              " 'days': 525,\n",
              " 'viewers': 526,\n",
              " 'completely': 527,\n",
              " 'violence': 528,\n",
              " 'along': 529,\n",
              " 'second': 530,\n",
              " 'seeing': 531,\n",
              " 'city': 532,\n",
              " 'intriguing': 533,\n",
              " 'game': 534,\n",
              " 'beautifully': 535,\n",
              " 'rock': 536,\n",
              " 'simple': 537,\n",
              " 'historical': 538,\n",
              " 'soap': 539,\n",
              " 'wrong': 540,\n",
              " 'budget': 541,\n",
              " 'four': 542,\n",
              " 'certainly': 543,\n",
              " 'strange': 544,\n",
              " 'easily': 545,\n",
              " 'shows': 546,\n",
              " 'passion': 547,\n",
              " 'beauty': 548,\n",
              " 'formula': 549,\n",
              " 'contrived': 550,\n",
              " 'comedies': 551,\n",
              " 'production': 552,\n",
              " 'elements': 553,\n",
              " 'memorable': 554,\n",
              " 'fairly': 555,\n",
              " 'tell': 556,\n",
              " 'period': 557,\n",
              " 'having': 558,\n",
              " 'cut': 559,\n",
              " 'difficult': 560,\n",
              " 'fantasy': 561,\n",
              " 'sequel': 562,\n",
              " 'eye': 563,\n",
              " 'attention': 564,\n",
              " 'single': 565,\n",
              " 'bland': 566,\n",
              " 'straight': 567,\n",
              " 'close': 568,\n",
              " \"'m\": 569,\n",
              " 'heavy': 570,\n",
              " 'white': 571,\n",
              " 'help': 572,\n",
              " 'whether': 573,\n",
              " 'cool': 574,\n",
              " 'emotionally': 575,\n",
              " 'none': 576,\n",
              " 'hand': 577,\n",
              " 'cliches': 578,\n",
              " 'york': 579,\n",
              " 'final': 580,\n",
              " 'attempt': 581,\n",
              " 'view': 582,\n",
              " 'hero': 583,\n",
              " 'moment': 584,\n",
              " 'important': 585,\n",
              " 'writing': 586,\n",
              " 'road': 587,\n",
              " 'creepy': 588,\n",
              " 'possible': 589,\n",
              " 'usual': 590,\n",
              " '90': 591,\n",
              " 'novel': 592,\n",
              " 'given': 593,\n",
              " 'oscar': 594,\n",
              " 'fire': 595,\n",
              " 'fact': 596,\n",
              " 'getting': 597,\n",
              " 'career': 598,\n",
              " 'mean': 599,\n",
              " 'change': 600,\n",
              " 'fails': 601,\n",
              " 'tries': 602,\n",
              " 'dog': 603,\n",
              " 'got': 604,\n",
              " 'events': 605,\n",
              " 'cheap': 606,\n",
              " 'emotions': 607,\n",
              " 'america': 608,\n",
              " 'pictures': 609,\n",
              " 'found': 610,\n",
              " 'guy': 611,\n",
              " 'fashioned': 612,\n",
              " 'case': 613,\n",
              " 'mostly': 614,\n",
              " 'call': 615,\n",
              " 'entirely': 616,\n",
              " 'mood': 617,\n",
              " 'lacks': 618,\n",
              " 'room': 619,\n",
              " 'artist': 620,\n",
              " 'ii': 621,\n",
              " 'supposed': 622,\n",
              " 'issues': 623,\n",
              " 'ends': 624,\n",
              " 'guys': 625,\n",
              " 'nor': 626,\n",
              " 'lost': 627,\n",
              " 'earnest': 628,\n",
              " 'night': 629,\n",
              " 'scary': 630,\n",
              " 'cultural': 631,\n",
              " 'vision': 632,\n",
              " 'touching': 633,\n",
              " 'adults': 634,\n",
              " 'proves': 635,\n",
              " 'visually': 636,\n",
              " 'told': 637,\n",
              " 'kid': 638,\n",
              " 'tired': 639,\n",
              " 'parents': 640,\n",
              " 'gone': 641,\n",
              " 'spy': 642,\n",
              " 'playing': 643,\n",
              " 'disney': 644,\n",
              " 'perfectly': 645,\n",
              " 'plenty': 646,\n",
              " 'remarkable': 647,\n",
              " 'loud': 648,\n",
              " 'psychological': 649,\n",
              " 'try': 650,\n",
              " 'neither': 651,\n",
              " 'quality': 652,\n",
              " 'hit': 653,\n",
              " 'barely': 654,\n",
              " 'monster': 655,\n",
              " 'terrific': 656,\n",
              " 'remains': 657,\n",
              " 'gentle': 658,\n",
              " 'relationships': 659,\n",
              " '2': 660,\n",
              " 'mess': 661,\n",
              " 'wonderful': 662,\n",
              " 'brilliant': 663,\n",
              " 'ambitious': 664,\n",
              " 'dry': 665,\n",
              " 'taste': 666,\n",
              " 'truth': 667,\n",
              " 'occasionally': 668,\n",
              " 'gorgeous': 669,\n",
              " 'approach': 670,\n",
              " 'creative': 671,\n",
              " 'odd': 672,\n",
              " 'wild': 673,\n",
              " 'future': 674,\n",
              " 'previous': 675,\n",
              " 'thinking': 676,\n",
              " 'sentimental': 677,\n",
              " 'date': 678,\n",
              " '10': 679,\n",
              " 'convincing': 680,\n",
              " 'acted': 681,\n",
              " 'talented': 682,\n",
              " 'air': 683,\n",
              " 'lead': 684,\n",
              " 'unsettling': 685,\n",
              " 'thoughtful': 686,\n",
              " 'themes': 687,\n",
              " 'bring': 688,\n",
              " 'large': 689,\n",
              " 'expect': 690,\n",
              " 'satire': 691,\n",
              " 'fi': 692,\n",
              " 'sit': 693,\n",
              " 'flicks': 694,\n",
              " 'able': 695,\n",
              " 'sci': 696,\n",
              " 'problem': 697,\n",
              " 'hip': 698,\n",
              " 'doing': 699,\n",
              " 'job': 700,\n",
              " 'certain': 701,\n",
              " 'major': 702,\n",
              " 'ones': 703,\n",
              " 'pace': 704,\n",
              " 'latest': 705,\n",
              " 'success': 706,\n",
              " 'finally': 707,\n",
              " 'surprising': 708,\n",
              " 'decent': 709,\n",
              " 'college': 710,\n",
              " 'urban': 711,\n",
              " 'appealing': 712,\n",
              " 'warm': 713,\n",
              " 'car': 714,\n",
              " 'welcome': 715,\n",
              " 'robert': 716,\n",
              " 'touch': 717,\n",
              " 'flawed': 718,\n",
              " 'free': 719,\n",
              " 'pretentious': 720,\n",
              " 'trip': 721,\n",
              " 'somewhat': 722,\n",
              " 'female': 723,\n",
              " 'relationship': 724,\n",
              " 'used': 725,\n",
              " 'worthy': 726,\n",
              " 'country': 727,\n",
              " 'clear': 728,\n",
              " 'knows': 729,\n",
              " 'fast': 730,\n",
              " 'process': 731,\n",
              " 'couple': 732,\n",
              " 'ugly': 733,\n",
              " 'appeal': 734,\n",
              " 'battle': 735,\n",
              " 'nice': 736,\n",
              " 'seat': 737,\n",
              " 'stupid': 738,\n",
              " 'name': 739,\n",
              " 'inspired': 740,\n",
              " 'david': 741,\n",
              " 'taking': 742,\n",
              " 'fully': 743,\n",
              " 'behind': 744,\n",
              " 'epic': 745,\n",
              " 'soul': 746,\n",
              " 'situation': 747,\n",
              " 'use': 748,\n",
              " 'felt': 749,\n",
              " 'century': 750,\n",
              " 'start': 751,\n",
              " 'journey': 752,\n",
              " 'gross': 753,\n",
              " 'several': 754,\n",
              " 'depth': 755,\n",
              " 'based': 756,\n",
              " 'contemporary': 757,\n",
              " 'mother': 758,\n",
              " 'called': 759,\n",
              " 'skin': 760,\n",
              " 'co': 761,\n",
              " 'insight': 762,\n",
              " 'crowd': 763,\n",
              " 'british': 764,\n",
              " 'word': 765,\n",
              " 'meaning': 766,\n",
              " 'hold': 767,\n",
              " 'adaptation': 768,\n",
              " 'saw': 769,\n",
              " 'water': 770,\n",
              " 'edge': 771,\n",
              " 'painful': 772,\n",
              " 'gay': 773,\n",
              " 'actress': 774,\n",
              " 'company': 775,\n",
              " 'money': 776,\n",
              " 'core': 777,\n",
              " 'potential': 778,\n",
              " 'needs': 779,\n",
              " 'business': 780,\n",
              " 'cute': 781,\n",
              " 'words': 782,\n",
              " 'entire': 783,\n",
              " 'examination': 784,\n",
              " 'target': 785,\n",
              " 'animated': 786,\n",
              " 'girls': 787,\n",
              " 'genuine': 788,\n",
              " 'thoroughly': 789,\n",
              " 'across': 790,\n",
              " 'living': 791,\n",
              " 'episode': 792,\n",
              " 'today': 793,\n",
              " 'others': 794,\n",
              " 'keeps': 795,\n",
              " 'tension': 796,\n",
              " 'imagine': 797,\n",
              " 'flaws': 798,\n",
              " 'average': 799,\n",
              " 'situations': 800,\n",
              " 'excellent': 801,\n",
              " 'throughout': 802,\n",
              " 'tragic': 803,\n",
              " 'quiet': 804,\n",
              " 'unexpected': 805,\n",
              " 'mediocre': 806,\n",
              " 'manner': 807,\n",
              " 'sustain': 808,\n",
              " 'winning': 809,\n",
              " 'era': 810,\n",
              " 'understand': 811,\n",
              " 'overall': 812,\n",
              " 'stylish': 813,\n",
              " 'evil': 814,\n",
              " 'spielberg': 815,\n",
              " 'fiction': 816,\n",
              " 'television': 817,\n",
              " 'falls': 818,\n",
              " 'execution': 819,\n",
              " 'offer': 820,\n",
              " 'ago': 821,\n",
              " 'remake': 822,\n",
              " 'worse': 823,\n",
              " 'places': 824,\n",
              " 'magic': 825,\n",
              " 'create': 826,\n",
              " 'exactly': 827,\n",
              " 'taken': 828,\n",
              " 'impact': 829,\n",
              " 'problems': 830,\n",
              " 'rest': 831,\n",
              " 'frame': 832,\n",
              " 'sexual': 833,\n",
              " 'brain': 834,\n",
              " 'engrossing': 835,\n",
              " 'awful': 836,\n",
              " 'highly': 837,\n",
              " 'viewing': 838,\n",
              " 'crazy': 839,\n",
              " 'humanity': 840,\n",
              " 'length': 841,\n",
              " 'ya': 842,\n",
              " 'dream': 843,\n",
              " 'hell': 844,\n",
              " 'let': 845,\n",
              " 'warmth': 846,\n",
              " 'cartoon': 847,\n",
              " 'grace': 848,\n",
              " 'pieces': 849,\n",
              " 'conclusion': 850,\n",
              " 'crafted': 851,\n",
              " 'form': 852,\n",
              " 'mildly': 853,\n",
              " 'successful': 854,\n",
              " 'hot': 855,\n",
              " 'goofy': 856,\n",
              " 'master': 857,\n",
              " 'plain': 858,\n",
              " 'someone': 859,\n",
              " 'considerable': 860,\n",
              " 'stars': 861,\n",
              " 'shots': 862,\n",
              " 'huge': 863,\n",
              " 'unique': 864,\n",
              " 'leaves': 865,\n",
              " 'brothers': 866,\n",
              " 'purpose': 867,\n",
              " 'george': 868,\n",
              " 'merely': 869,\n",
              " 'justice': 870,\n",
              " 'wife': 871,\n",
              " 'blood': 872,\n",
              " 'pacing': 873,\n",
              " 'five': 874,\n",
              " 'pay': 875,\n",
              " 'open': 876,\n",
              " 'sharp': 877,\n",
              " 'impressive': 878,\n",
              " 'surprise': 879,\n",
              " 'ultimate': 880,\n",
              " 'pure': 881,\n",
              " 'shoot': 882,\n",
              " 'delivers': 883,\n",
              " 'break': 884,\n",
              " 'happy': 885,\n",
              " 'extreme': 886,\n",
              " 'delightful': 887,\n",
              " 'trouble': 888,\n",
              " 'poor': 889,\n",
              " 'points': 890,\n",
              " 'voice': 891,\n",
              " 'uses': 892,\n",
              " 'memory': 893,\n",
              " 'starts': 894,\n",
              " 'share': 895,\n",
              " 'indie': 896,\n",
              " 'post': 897,\n",
              " 'late': 898,\n",
              " 'red': 899,\n",
              " 'ensemble': 900,\n",
              " 'wanted': 901,\n",
              " 'wants': 902,\n",
              " 'perspective': 903,\n",
              " 'party': 904,\n",
              " 'list': 905,\n",
              " 'inventive': 906,\n",
              " 'killer': 907,\n",
              " 'step': 908,\n",
              " 'slightly': 909,\n",
              " 'surprises': 910,\n",
              " 'colorful': 911,\n",
              " 'interested': 912,\n",
              " 'boys': 913,\n",
              " 'questions': 914,\n",
              " 'popcorn': 915,\n",
              " 'twists': 916,\n",
              " 'maybe': 917,\n",
              " 'tom': 918,\n",
              " 'unfunny': 919,\n",
              " 'murder': 920,\n",
              " 'sincere': 921,\n",
              " 'intended': 922,\n",
              " 'subtle': 923,\n",
              " 'promise': 924,\n",
              " 'equally': 925,\n",
              " 'friendship': 926,\n",
              " 'wish': 927,\n",
              " 'computer': 928,\n",
              " 'upon': 929,\n",
              " 'force': 930,\n",
              " 'bizarre': 931,\n",
              " 'read': 932,\n",
              " 'loss': 933,\n",
              " 'forget': 934,\n",
              " 'sports': 935,\n",
              " 'damned': 936,\n",
              " 'non': 937,\n",
              " 'fit': 938,\n",
              " 'sophisticated': 939,\n",
              " 'greatest': 940,\n",
              " 'believable': 941,\n",
              " 'substance': 942,\n",
              " 'masterpiece': 943,\n",
              " 'spiritual': 944,\n",
              " 'deal': 945,\n",
              " 'happen': 946,\n",
              " 'slight': 947,\n",
              " 'anti': 948,\n",
              " 'witty': 949,\n",
              " 'telling': 950,\n",
              " 't': 951,\n",
              " 'grant': 952,\n",
              " 'means': 953,\n",
              " 'steven': 954,\n",
              " 'weird': 955,\n",
              " 'alone': 956,\n",
              " 'funnier': 957,\n",
              " 'slapstick': 958,\n",
              " 'key': 959,\n",
              " 'typical': 960,\n",
              " 'franchise': 961,\n",
              " 'among': 962,\n",
              " 'joke': 963,\n",
              " 'directors': 964,\n",
              " 'release': 965,\n",
              " '20': 966,\n",
              " 'queen': 967,\n",
              " 'sensitive': 968,\n",
              " 'festival': 969,\n",
              " 'ability': 970,\n",
              " 'intrigue': 971,\n",
              " 'utterly': 972,\n",
              " 'treatment': 973,\n",
              " 'watchable': 974,\n",
              " 'twisted': 975,\n",
              " 'chan': 976,\n",
              " 'waste': 977,\n",
              " 'provocative': 978,\n",
              " 'shallow': 979,\n",
              " 'conventional': 980,\n",
              " 'meditation': 981,\n",
              " 'tedious': 982,\n",
              " 'ms': 983,\n",
              " 'industry': 984,\n",
              " 'manipulative': 985,\n",
              " 'number': 986,\n",
              " 'science': 987,\n",
              " 'cause': 988,\n",
              " 'foreign': 989,\n",
              " 'standard': 990,\n",
              " 'south': 991,\n",
              " 'sandler': 992,\n",
              " 'figure': 993,\n",
              " 'endearing': 994,\n",
              " 'ages': 995,\n",
              " 'effective': 996,\n",
              " 'rate': 997,\n",
              " 'until': 998,\n",
              " 'lacking': 999,\n",
              " 'terms': 1000,\n",
              " ...}"
            ]
          },
          "metadata": {
            "tags": []
          },
          "execution_count": 36
        }
      ]
    },
    {
      "metadata": {
        "id": "3D1Sdt5tMPWg",
        "colab_type": "code",
        "colab": {
          "autoexec": {
            "startup": false,
            "wait_interval": 0
          }
        }
      },
      "cell_type": "code",
      "source": [
        "train_tokens = tokenizer.texts_to_sequences(train['Phrase']) # converting all the text in training data to tokens\n"
      ],
      "execution_count": 0,
      "outputs": []
    },
    {
      "metadata": {
        "id": "aw5Uzdb0MsGY",
        "colab_type": "code",
        "colab": {
          "autoexec": {
            "startup": false,
            "wait_interval": 0
          }
        }
      },
      "cell_type": "code",
      "source": [
        "num_tokens = np.array([len(tokens) for tokens in train_tokens])\n"
      ],
      "execution_count": 0,
      "outputs": []
    },
    {
      "metadata": {
        "id": "P0cWWsdbMu4F",
        "colab_type": "code",
        "colab": {
          "autoexec": {
            "startup": false,
            "wait_interval": 0
          },
          "base_uri": "https://localhost:8080/",
          "height": 35
        },
        "outputId": "4337c2fd-03a7-470b-e4ff-c231a617d9a2",
        "executionInfo": {
          "status": "ok",
          "timestamp": 1531914230584,
          "user_tz": -330,
          "elapsed": 922,
          "user": {
            "displayName": "Royal Bhati",
            "photoUrl": "//lh5.googleusercontent.com/-s6WQZwbOemQ/AAAAAAAAAAI/AAAAAAAAAR8/TjmSXPBeMv8/s50-c-k-no/photo.jpg",
            "userId": "103156158870719169777"
          }
        }
      },
      "cell_type": "code",
      "source": [
        "np.mean(num_tokens)"
      ],
      "execution_count": 41,
      "outputs": [
        {
          "output_type": "execute_result",
          "data": {
            "text/plain": [
              "6.6524605920799695"
            ]
          },
          "metadata": {
            "tags": []
          },
          "execution_count": 41
        }
      ]
    },
    {
      "metadata": {
        "id": "MW8jlkQKM-yL",
        "colab_type": "code",
        "colab": {
          "autoexec": {
            "startup": false,
            "wait_interval": 0
          }
        }
      },
      "cell_type": "code",
      "source": [
        "pad = 'pre'\n"
      ],
      "execution_count": 0,
      "outputs": []
    },
    {
      "metadata": {
        "id": "zpnJkyNdNLWR",
        "colab_type": "code",
        "colab": {
          "autoexec": {
            "startup": false,
            "wait_interval": 0
          }
        }
      },
      "cell_type": "code",
      "source": [
        "x_train_pad = pad_sequences(train_tokens, maxlen=7,\n",
        "                            padding=pad, truncating=pad)"
      ],
      "execution_count": 0,
      "outputs": []
    },
    {
      "metadata": {
        "id": "16JwOm8eNNuj",
        "colab_type": "code",
        "colab": {
          "autoexec": {
            "startup": false,
            "wait_interval": 0
          }
        }
      },
      "cell_type": "code",
      "source": [
        "model = Sequential()\n"
      ],
      "execution_count": 0,
      "outputs": []
    },
    {
      "metadata": {
        "id": "5zH5XhvlNU4t",
        "colab_type": "code",
        "colab": {
          "autoexec": {
            "startup": false,
            "wait_interval": 0
          }
        }
      },
      "cell_type": "code",
      "source": [
        "embedding_size = 300\n"
      ],
      "execution_count": 0,
      "outputs": []
    },
    {
      "metadata": {
        "id": "TQqbvNsdNWz0",
        "colab_type": "code",
        "colab": {
          "autoexec": {
            "startup": false,
            "wait_interval": 0
          }
        }
      },
      "cell_type": "code",
      "source": [
        "model.add(Embedding(input_dim=10000,\n",
        "                   output_dim=embedding_size,\n",
        "                   input_length=7,\n",
        "                   ))"
      ],
      "execution_count": 0,
      "outputs": []
    },
    {
      "metadata": {
        "id": "yG6WjR9cNbOB",
        "colab_type": "code",
        "colab": {
          "autoexec": {
            "startup": false,
            "wait_interval": 0
          }
        }
      },
      "cell_type": "code",
      "source": [
        "model.add(GRU(units=16, return_sequences=True))#layer below will be processing sequences so thats why return_sequences=True\n"
      ],
      "execution_count": 0,
      "outputs": []
    },
    {
      "metadata": {
        "id": "KN7lOAnLNfnh",
        "colab_type": "code",
        "colab": {
          "autoexec": {
            "startup": false,
            "wait_interval": 0
          }
        }
      },
      "cell_type": "code",
      "source": [
        "model.add(LSTM(units=16, return_sequences=True))#layer below will be processing sequences so thats why return_sequences=True\n"
      ],
      "execution_count": 0,
      "outputs": []
    },
    {
      "metadata": {
        "id": "kRN4SI_zNhay",
        "colab_type": "code",
        "colab": {
          "autoexec": {
            "startup": false,
            "wait_interval": 0
          }
        }
      },
      "cell_type": "code",
      "source": [
        "model.add(LSTM(units=20))# now we don't need sequences because in the next layer we will predict the output\n"
      ],
      "execution_count": 0,
      "outputs": []
    },
    {
      "metadata": {
        "id": "TdunkEBENjP2",
        "colab_type": "code",
        "colab": {
          "autoexec": {
            "startup": false,
            "wait_interval": 0
          }
        }
      },
      "cell_type": "code",
      "source": [
        "model.add(Dense(5, activation='sigmoid'))"
      ],
      "execution_count": 0,
      "outputs": []
    },
    {
      "metadata": {
        "id": "Te5CRCgwNlFj",
        "colab_type": "code",
        "colab": {
          "autoexec": {
            "startup": false,
            "wait_interval": 0
          }
        }
      },
      "cell_type": "code",
      "source": [
        "optimizer = Adam(lr=1e-3)\n"
      ],
      "execution_count": 0,
      "outputs": []
    },
    {
      "metadata": {
        "id": "g_pmkKSINnfp",
        "colab_type": "code",
        "colab": {
          "autoexec": {
            "startup": false,
            "wait_interval": 0
          }
        }
      },
      "cell_type": "code",
      "source": [
        "model.compile(loss='categorical_crossentropy',\n",
        "              optimizer=optimizer,\n",
        "              metrics=['accuracy'])"
      ],
      "execution_count": 0,
      "outputs": []
    },
    {
      "metadata": {
        "id": "KwUGWctFa3i5",
        "colab_type": "code",
        "colab": {
          "autoexec": {
            "startup": false,
            "wait_interval": 0
          }
        }
      },
      "cell_type": "code",
      "source": [
        "from keras.utils import to_categorical\n",
        "\n",
        "y=to_categorical(train['Sentiment'])"
      ],
      "execution_count": 0,
      "outputs": []
    },
    {
      "metadata": {
        "id": "bV5SPEEcNr0H",
        "colab_type": "code",
        "colab": {
          "autoexec": {
            "startup": false,
            "wait_interval": 0
          },
          "base_uri": "https://localhost:8080/",
          "height": 235
        },
        "outputId": "bc1ab30e-a0c9-4146-c303-206b59696fa9",
        "executionInfo": {
          "status": "ok",
          "timestamp": 1531920432600,
          "user_tz": -330,
          "elapsed": 951847,
          "user": {
            "displayName": "Royal Bhati",
            "photoUrl": "//lh5.googleusercontent.com/-s6WQZwbOemQ/AAAAAAAAAAI/AAAAAAAAAR8/TjmSXPBeMv8/s50-c-k-no/photo.jpg",
            "userId": "103156158870719169777"
          }
        }
      },
      "cell_type": "code",
      "source": [
        "history=model.fit(x_train_pad,y,\n",
        "          validation_split=0.05, epochs=5, batch_size=50)"
      ],
      "execution_count": 155,
      "outputs": [
        {
          "output_type": "stream",
          "text": [
            "Train on 148257 samples, validate on 7803 samples\n",
            "Epoch 1/5\n",
            " 33400/148257 [=====>........................] - ETA: 2:26 - loss: 0.7310 - acc: 0.6973"
          ],
          "name": "stdout"
        },
        {
          "output_type": "stream",
          "text": [
            "102900/148257 [===================>..........] - ETA: 58s - loss: 0.7488 - acc: 0.6922"
          ],
          "name": "stdout"
        },
        {
          "output_type": "stream",
          "text": [
            "148257/148257 [==============================] - 193s 1ms/step - loss: 0.7522 - acc: 0.6911 - val_loss: 1.1302 - val_acc: 0.5695\n",
            "Epoch 2/5\n",
            "  4250/148257 [..............................] - ETA: 3:06 - loss: 0.6799 - acc: 0.7209"
          ],
          "name": "stdout"
        },
        {
          "output_type": "stream",
          "text": [
            " 86050/148257 [================>.............] - ETA: 1:19 - loss: 0.7072 - acc: 0.7098"
          ],
          "name": "stdout"
        },
        {
          "output_type": "stream",
          "text": [
            "148250/148257 [============================>.] - ETA: 0s - loss: 0.7195 - acc: 0.7043"
          ],
          "name": "stdout"
        },
        {
          "output_type": "stream",
          "text": [
            "148257/148257 [==============================] - 191s 1ms/step - loss: 0.7195 - acc: 0.7043 - val_loss: 1.1489 - val_acc: 0.5597\n",
            "Epoch 3/5\n",
            " 22050/148257 [===>..........................] - ETA: 2:37 - loss: 0.6611 - acc: 0.7278"
          ],
          "name": "stdout"
        },
        {
          "output_type": "stream",
          "text": [
            "105700/148257 [====================>.........] - ETA: 53s - loss: 0.6870 - acc: 0.7166"
          ],
          "name": "stdout"
        },
        {
          "output_type": "stream",
          "text": [
            "148257/148257 [==============================] - 188s 1ms/step - loss: 0.6925 - acc: 0.7145 - val_loss: 1.1660 - val_acc: 0.5609\n",
            "Epoch 4/5\n",
            "  5800/148257 [>.............................] - ETA: 3:00 - loss: 0.6318 - acc: 0.7353"
          ],
          "name": "stdout"
        },
        {
          "output_type": "stream",
          "text": [
            " 82450/148257 [===============>..............] - ETA: 1:23 - loss: 0.6537 - acc: 0.7308"
          ],
          "name": "stdout"
        },
        {
          "output_type": "stream",
          "text": [
            "148250/148257 [============================>.] - ETA: 0s - loss: 0.6681 - acc: 0.7241"
          ],
          "name": "stdout"
        },
        {
          "output_type": "stream",
          "text": [
            "148257/148257 [==============================] - 189s 1ms/step - loss: 0.6681 - acc: 0.7241 - val_loss: 1.1961 - val_acc: 0.5590\n",
            "Epoch 5/5\n",
            " 22050/148257 [===>..........................] - ETA: 2:39 - loss: 0.6189 - acc: 0.7466"
          ],
          "name": "stdout"
        },
        {
          "output_type": "stream",
          "text": [
            " 98550/148257 [==================>...........] - ETA: 1:02 - loss: 0.6367 - acc: 0.7370"
          ],
          "name": "stdout"
        },
        {
          "output_type": "stream",
          "text": [
            "148257/148257 [==============================] - 189s 1ms/step - loss: 0.6466 - acc: 0.7319 - val_loss: 1.2490 - val_acc: 0.5476\n"
          ],
          "name": "stdout"
        }
      ]
    },
    {
      "metadata": {
        "id": "wkEMEQO6PbyS",
        "colab_type": "code",
        "colab": {
          "autoexec": {
            "startup": false,
            "wait_interval": 0
          }
        }
      },
      "cell_type": "code",
      "source": [
        ""
      ],
      "execution_count": 0,
      "outputs": []
    },
    {
      "metadata": {
        "id": "pz4oUW4fN0FM",
        "colab_type": "code",
        "colab": {
          "autoexec": {
            "startup": false,
            "wait_interval": 0
          }
        }
      },
      "cell_type": "code",
      "source": [
        ""
      ],
      "execution_count": 0,
      "outputs": []
    },
    {
      "metadata": {
        "id": "c-m4HjnYP1KN",
        "colab_type": "code",
        "colab": {
          "autoexec": {
            "startup": false,
            "wait_interval": 0
          }
        }
      },
      "cell_type": "code",
      "source": [
        "tokenizer.fit_on_texts(test['Phrase'])\n",
        "test_tokens = tokenizer.texts_to_sequences(test['Phrase']) # converting all the text in training data to tokens\n",
        "test_pad = pad_sequences(test_tokens, maxlen=7,\n",
        "                            padding=pad, truncating=pad)\n",
        "\n"
      ],
      "execution_count": 0,
      "outputs": []
    },
    {
      "metadata": {
        "id": "mSwCN9SwSaNW",
        "colab_type": "code",
        "colab": {
          "autoexec": {
            "startup": false,
            "wait_interval": 0
          },
          "base_uri": "https://localhost:8080/",
          "height": 35
        },
        "outputId": "887850f1-46ec-445a-ac83-c17775a079ac",
        "executionInfo": {
          "status": "ok",
          "timestamp": 1531917267063,
          "user_tz": -330,
          "elapsed": 27709,
          "user": {
            "displayName": "Royal Bhati",
            "photoUrl": "//lh5.googleusercontent.com/-s6WQZwbOemQ/AAAAAAAAAAI/AAAAAAAAAR8/TjmSXPBeMv8/s50-c-k-no/photo.jpg",
            "userId": "103156158870719169777"
          }
        }
      },
      "cell_type": "code",
      "source": [
        "ypred=model.predict_classes(test_pad,verbose=1)"
      ],
      "execution_count": 118,
      "outputs": [
        {
          "output_type": "stream",
          "text": [
            "66292/66292 [==============================] - 27s 410us/step\n"
          ],
          "name": "stdout"
        }
      ]
    },
    {
      "metadata": {
        "id": "-Q0f8Wk9SeQq",
        "colab_type": "code",
        "colab": {
          "autoexec": {
            "startup": false,
            "wait_interval": 0
          },
          "base_uri": "https://localhost:8080/",
          "height": 35
        },
        "outputId": "2a804d6b-d103-4f69-bd6a-a062d8afea31",
        "executionInfo": {
          "status": "ok",
          "timestamp": 1531915899975,
          "user_tz": -330,
          "elapsed": 849,
          "user": {
            "displayName": "Royal Bhati",
            "photoUrl": "//lh5.googleusercontent.com/-s6WQZwbOemQ/AAAAAAAAAAI/AAAAAAAAAR8/TjmSXPBeMv8/s50-c-k-no/photo.jpg",
            "userId": "103156158870719169777"
          }
        }
      },
      "cell_type": "code",
      "source": [
        ""
      ],
      "execution_count": 100,
      "outputs": [
        {
          "output_type": "execute_result",
          "data": {
            "text/plain": [
              "array([2, 2, 2, ..., 2, 2, 2])"
            ]
          },
          "metadata": {
            "tags": []
          },
          "execution_count": 100
        }
      ]
    },
    {
      "metadata": {
        "id": "0yXwWjXtTB5I",
        "colab_type": "code",
        "colab": {
          "autoexec": {
            "startup": false,
            "wait_interval": 0
          },
          "base_uri": "https://localhost:8080/",
          "height": 204
        },
        "outputId": "58cbe282-8b34-480d-82d0-2e59b4bbe2a5",
        "executionInfo": {
          "status": "ok",
          "timestamp": 1531915887103,
          "user_tz": -330,
          "elapsed": 991,
          "user": {
            "displayName": "Royal Bhati",
            "photoUrl": "//lh5.googleusercontent.com/-s6WQZwbOemQ/AAAAAAAAAAI/AAAAAAAAAR8/TjmSXPBeMv8/s50-c-k-no/photo.jpg",
            "userId": "103156158870719169777"
          }
        }
      },
      "cell_type": "code",
      "source": [
        ""
      ],
      "execution_count": 99,
      "outputs": [
        {
          "output_type": "execute_result",
          "data": {
            "text/html": [
              "<div>\n",
              "<style scoped>\n",
              "    .dataframe tbody tr th:only-of-type {\n",
              "        vertical-align: middle;\n",
              "    }\n",
              "\n",
              "    .dataframe tbody tr th {\n",
              "        vertical-align: top;\n",
              "    }\n",
              "\n",
              "    .dataframe thead th {\n",
              "        text-align: right;\n",
              "    }\n",
              "</style>\n",
              "<table border=\"1\" class=\"dataframe\">\n",
              "  <thead>\n",
              "    <tr style=\"text-align: right;\">\n",
              "      <th></th>\n",
              "      <th>PhraseId</th>\n",
              "      <th>Sentiment</th>\n",
              "    </tr>\n",
              "  </thead>\n",
              "  <tbody>\n",
              "    <tr>\n",
              "      <th>0</th>\n",
              "      <td>156061</td>\n",
              "      <td>2</td>\n",
              "    </tr>\n",
              "    <tr>\n",
              "      <th>1</th>\n",
              "      <td>156062</td>\n",
              "      <td>2</td>\n",
              "    </tr>\n",
              "    <tr>\n",
              "      <th>2</th>\n",
              "      <td>156063</td>\n",
              "      <td>2</td>\n",
              "    </tr>\n",
              "    <tr>\n",
              "      <th>3</th>\n",
              "      <td>156064</td>\n",
              "      <td>2</td>\n",
              "    </tr>\n",
              "    <tr>\n",
              "      <th>4</th>\n",
              "      <td>156065</td>\n",
              "      <td>2</td>\n",
              "    </tr>\n",
              "  </tbody>\n",
              "</table>\n",
              "</div>"
            ],
            "text/plain": [
              "   PhraseId  Sentiment\n",
              "0    156061          2\n",
              "1    156062          2\n",
              "2    156063          2\n",
              "3    156064          2\n",
              "4    156065          2"
            ]
          },
          "metadata": {
            "tags": []
          },
          "execution_count": 99
        }
      ]
    },
    {
      "metadata": {
        "id": "GytYEc-GTQwO",
        "colab_type": "code",
        "colab": {
          "autoexec": {
            "startup": false,
            "wait_interval": 0
          }
        }
      },
      "cell_type": "code",
      "source": [
        "sample['Sentiment']=ypred"
      ],
      "execution_count": 0,
      "outputs": []
    },
    {
      "metadata": {
        "id": "eRSh5Z7hTUk5",
        "colab_type": "code",
        "colab": {
          "autoexec": {
            "startup": false,
            "wait_interval": 0
          }
        }
      },
      "cell_type": "code",
      "source": [
        "sample.to_csv('kagg.csv', index = False)"
      ],
      "execution_count": 0,
      "outputs": []
    },
    {
      "metadata": {
        "id": "A2P41IhYTo1B",
        "colab_type": "code",
        "colab": {
          "autoexec": {
            "startup": false,
            "wait_interval": 0
          },
          "base_uri": "https://localhost:8080/",
          "height": 35
        },
        "outputId": "9f84fe5b-6358-47c7-e758-9dda87a094f9",
        "executionInfo": {
          "status": "ok",
          "timestamp": 1531915970265,
          "user_tz": -330,
          "elapsed": 2154,
          "user": {
            "displayName": "Royal Bhati",
            "photoUrl": "//lh5.googleusercontent.com/-s6WQZwbOemQ/AAAAAAAAAAI/AAAAAAAAAR8/TjmSXPBeMv8/s50-c-k-no/photo.jpg",
            "userId": "103156158870719169777"
          }
        }
      },
      "cell_type": "code",
      "source": [
        "\n"
      ],
      "execution_count": 102,
      "outputs": [
        {
          "output_type": "stream",
          "text": [
            "kagg.csv  sampleSubmission.csv  test.tsv  train.tsv\r\n"
          ],
          "name": "stdout"
        }
      ]
    },
    {
      "metadata": {
        "id": "wLWwcKVlTp3K",
        "colab_type": "code",
        "colab": {
          "autoexec": {
            "startup": false,
            "wait_interval": 0
          }
        }
      },
      "cell_type": "code",
      "source": [
        ""
      ],
      "execution_count": 0,
      "outputs": []
    },
    {
      "metadata": {
        "id": "4-KUuvnpUWds",
        "colab_type": "code",
        "colab": {
          "autoexec": {
            "startup": false,
            "wait_interval": 0
          }
        }
      },
      "cell_type": "code",
      "source": [
        ""
      ],
      "execution_count": 0,
      "outputs": []
    }
  ]
}