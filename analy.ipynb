{
 "cells": [
  {
   "cell_type": "code",
   "execution_count": 1,
   "metadata": {},
   "outputs": [],
   "source": [
    "import pandas as pd\n",
    "import numpy as np\n",
    "import matplotlib.pyplot as plt\n",
    "import seaborn as sns\n",
    "%matplotlib inline\n",
    "train=pd.read_csv('train2.csv')\n",
    "test=pd.read_csv('test2.csv')\n",
    "sample=pd.read_csv('sample.csv')"
   ]
  },
  {
   "cell_type": "code",
   "execution_count": 2,
   "metadata": {},
   "outputs": [
    {
     "data": {
      "text/html": [
       "<div>\n",
       "<style scoped>\n",
       "    .dataframe tbody tr th:only-of-type {\n",
       "        vertical-align: middle;\n",
       "    }\n",
       "\n",
       "    .dataframe tbody tr th {\n",
       "        vertical-align: top;\n",
       "    }\n",
       "\n",
       "    .dataframe thead th {\n",
       "        text-align: right;\n",
       "    }\n",
       "</style>\n",
       "<table border=\"1\" class=\"dataframe\">\n",
       "  <thead>\n",
       "    <tr style=\"text-align: right;\">\n",
       "      <th></th>\n",
       "      <th>id</th>\n",
       "      <th>program_id</th>\n",
       "      <th>program_type</th>\n",
       "      <th>program_duration</th>\n",
       "      <th>test_id</th>\n",
       "      <th>test_type</th>\n",
       "      <th>difficulty_level</th>\n",
       "      <th>trainee_id</th>\n",
       "      <th>gender</th>\n",
       "      <th>education</th>\n",
       "      <th>city_tier</th>\n",
       "      <th>age</th>\n",
       "      <th>total_programs_enrolled</th>\n",
       "      <th>is_handicapped</th>\n",
       "      <th>trainee_engagement_rating</th>\n",
       "      <th>is_pass</th>\n",
       "    </tr>\n",
       "  </thead>\n",
       "  <tbody>\n",
       "    <tr>\n",
       "      <th>0</th>\n",
       "      <td>9389_150</td>\n",
       "      <td>Y_1</td>\n",
       "      <td>Y</td>\n",
       "      <td>136</td>\n",
       "      <td>150</td>\n",
       "      <td>offline</td>\n",
       "      <td>intermediate</td>\n",
       "      <td>9389</td>\n",
       "      <td>M</td>\n",
       "      <td>Matriculation</td>\n",
       "      <td>3</td>\n",
       "      <td>24.0</td>\n",
       "      <td>5</td>\n",
       "      <td>N</td>\n",
       "      <td>1.0</td>\n",
       "      <td>0</td>\n",
       "    </tr>\n",
       "    <tr>\n",
       "      <th>1</th>\n",
       "      <td>16523_44</td>\n",
       "      <td>T_1</td>\n",
       "      <td>T</td>\n",
       "      <td>131</td>\n",
       "      <td>44</td>\n",
       "      <td>offline</td>\n",
       "      <td>easy</td>\n",
       "      <td>16523</td>\n",
       "      <td>F</td>\n",
       "      <td>High School Diploma</td>\n",
       "      <td>4</td>\n",
       "      <td>26.0</td>\n",
       "      <td>2</td>\n",
       "      <td>N</td>\n",
       "      <td>3.0</td>\n",
       "      <td>1</td>\n",
       "    </tr>\n",
       "    <tr>\n",
       "      <th>2</th>\n",
       "      <td>13987_178</td>\n",
       "      <td>Z_2</td>\n",
       "      <td>Z</td>\n",
       "      <td>120</td>\n",
       "      <td>178</td>\n",
       "      <td>online</td>\n",
       "      <td>easy</td>\n",
       "      <td>13987</td>\n",
       "      <td>M</td>\n",
       "      <td>Matriculation</td>\n",
       "      <td>1</td>\n",
       "      <td>40.0</td>\n",
       "      <td>1</td>\n",
       "      <td>N</td>\n",
       "      <td>2.0</td>\n",
       "      <td>1</td>\n",
       "    </tr>\n",
       "    <tr>\n",
       "      <th>3</th>\n",
       "      <td>13158_32</td>\n",
       "      <td>T_2</td>\n",
       "      <td>T</td>\n",
       "      <td>117</td>\n",
       "      <td>32</td>\n",
       "      <td>offline</td>\n",
       "      <td>easy</td>\n",
       "      <td>13158</td>\n",
       "      <td>F</td>\n",
       "      <td>Matriculation</td>\n",
       "      <td>3</td>\n",
       "      <td>NaN</td>\n",
       "      <td>4</td>\n",
       "      <td>N</td>\n",
       "      <td>1.0</td>\n",
       "      <td>1</td>\n",
       "    </tr>\n",
       "    <tr>\n",
       "      <th>4</th>\n",
       "      <td>10591_84</td>\n",
       "      <td>V_3</td>\n",
       "      <td>V</td>\n",
       "      <td>131</td>\n",
       "      <td>84</td>\n",
       "      <td>offline</td>\n",
       "      <td>intermediate</td>\n",
       "      <td>10591</td>\n",
       "      <td>F</td>\n",
       "      <td>High School Diploma</td>\n",
       "      <td>1</td>\n",
       "      <td>42.0</td>\n",
       "      <td>2</td>\n",
       "      <td>N</td>\n",
       "      <td>4.0</td>\n",
       "      <td>1</td>\n",
       "    </tr>\n",
       "  </tbody>\n",
       "</table>\n",
       "</div>"
      ],
      "text/plain": [
       "          id program_id program_type  program_duration  test_id test_type  \\\n",
       "0   9389_150        Y_1            Y               136      150   offline   \n",
       "1   16523_44        T_1            T               131       44   offline   \n",
       "2  13987_178        Z_2            Z               120      178    online   \n",
       "3   13158_32        T_2            T               117       32   offline   \n",
       "4   10591_84        V_3            V               131       84   offline   \n",
       "\n",
       "  difficulty_level  trainee_id gender            education  city_tier   age  \\\n",
       "0     intermediate        9389      M        Matriculation          3  24.0   \n",
       "1             easy       16523      F  High School Diploma          4  26.0   \n",
       "2             easy       13987      M        Matriculation          1  40.0   \n",
       "3             easy       13158      F        Matriculation          3   NaN   \n",
       "4     intermediate       10591      F  High School Diploma          1  42.0   \n",
       "\n",
       "   total_programs_enrolled is_handicapped  trainee_engagement_rating  is_pass  \n",
       "0                        5              N                        1.0        0  \n",
       "1                        2              N                        3.0        1  \n",
       "2                        1              N                        2.0        1  \n",
       "3                        4              N                        1.0        1  \n",
       "4                        2              N                        4.0        1  "
      ]
     },
     "execution_count": 2,
     "metadata": {},
     "output_type": "execute_result"
    }
   ],
   "source": [
    "train.head()"
   ]
  },
  {
   "cell_type": "code",
   "execution_count": 3,
   "metadata": {},
   "outputs": [],
   "source": [
    "tr=train.drop(['id','trainee_id','test_id','trainee_id','program_id'],axis=1)"
   ]
  },
  {
   "cell_type": "code",
   "execution_count": 4,
   "metadata": {},
   "outputs": [],
   "source": [
    "te=test.drop(['id','trainee_id','test_id','trainee_id','program_id'],axis=1)"
   ]
  },
  {
   "cell_type": "code",
   "execution_count": 5,
   "metadata": {},
   "outputs": [
    {
     "data": {
      "text/html": [
       "<div>\n",
       "<style scoped>\n",
       "    .dataframe tbody tr th:only-of-type {\n",
       "        vertical-align: middle;\n",
       "    }\n",
       "\n",
       "    .dataframe tbody tr th {\n",
       "        vertical-align: top;\n",
       "    }\n",
       "\n",
       "    .dataframe thead th {\n",
       "        text-align: right;\n",
       "    }\n",
       "</style>\n",
       "<table border=\"1\" class=\"dataframe\">\n",
       "  <thead>\n",
       "    <tr style=\"text-align: right;\">\n",
       "      <th></th>\n",
       "      <th>program_type</th>\n",
       "      <th>program_duration</th>\n",
       "      <th>test_type</th>\n",
       "      <th>difficulty_level</th>\n",
       "      <th>gender</th>\n",
       "      <th>education</th>\n",
       "      <th>city_tier</th>\n",
       "      <th>age</th>\n",
       "      <th>total_programs_enrolled</th>\n",
       "      <th>is_handicapped</th>\n",
       "      <th>trainee_engagement_rating</th>\n",
       "      <th>is_pass</th>\n",
       "    </tr>\n",
       "  </thead>\n",
       "  <tbody>\n",
       "    <tr>\n",
       "      <th>0</th>\n",
       "      <td>Y</td>\n",
       "      <td>136</td>\n",
       "      <td>offline</td>\n",
       "      <td>intermediate</td>\n",
       "      <td>M</td>\n",
       "      <td>Matriculation</td>\n",
       "      <td>3</td>\n",
       "      <td>24.0</td>\n",
       "      <td>5</td>\n",
       "      <td>N</td>\n",
       "      <td>1.0</td>\n",
       "      <td>0</td>\n",
       "    </tr>\n",
       "    <tr>\n",
       "      <th>1</th>\n",
       "      <td>T</td>\n",
       "      <td>131</td>\n",
       "      <td>offline</td>\n",
       "      <td>easy</td>\n",
       "      <td>F</td>\n",
       "      <td>High School Diploma</td>\n",
       "      <td>4</td>\n",
       "      <td>26.0</td>\n",
       "      <td>2</td>\n",
       "      <td>N</td>\n",
       "      <td>3.0</td>\n",
       "      <td>1</td>\n",
       "    </tr>\n",
       "    <tr>\n",
       "      <th>2</th>\n",
       "      <td>Z</td>\n",
       "      <td>120</td>\n",
       "      <td>online</td>\n",
       "      <td>easy</td>\n",
       "      <td>M</td>\n",
       "      <td>Matriculation</td>\n",
       "      <td>1</td>\n",
       "      <td>40.0</td>\n",
       "      <td>1</td>\n",
       "      <td>N</td>\n",
       "      <td>2.0</td>\n",
       "      <td>1</td>\n",
       "    </tr>\n",
       "    <tr>\n",
       "      <th>3</th>\n",
       "      <td>T</td>\n",
       "      <td>117</td>\n",
       "      <td>offline</td>\n",
       "      <td>easy</td>\n",
       "      <td>F</td>\n",
       "      <td>Matriculation</td>\n",
       "      <td>3</td>\n",
       "      <td>NaN</td>\n",
       "      <td>4</td>\n",
       "      <td>N</td>\n",
       "      <td>1.0</td>\n",
       "      <td>1</td>\n",
       "    </tr>\n",
       "    <tr>\n",
       "      <th>4</th>\n",
       "      <td>V</td>\n",
       "      <td>131</td>\n",
       "      <td>offline</td>\n",
       "      <td>intermediate</td>\n",
       "      <td>F</td>\n",
       "      <td>High School Diploma</td>\n",
       "      <td>1</td>\n",
       "      <td>42.0</td>\n",
       "      <td>2</td>\n",
       "      <td>N</td>\n",
       "      <td>4.0</td>\n",
       "      <td>1</td>\n",
       "    </tr>\n",
       "  </tbody>\n",
       "</table>\n",
       "</div>"
      ],
      "text/plain": [
       "  program_type  program_duration test_type difficulty_level gender  \\\n",
       "0            Y               136   offline     intermediate      M   \n",
       "1            T               131   offline             easy      F   \n",
       "2            Z               120    online             easy      M   \n",
       "3            T               117   offline             easy      F   \n",
       "4            V               131   offline     intermediate      F   \n",
       "\n",
       "             education  city_tier   age  total_programs_enrolled  \\\n",
       "0        Matriculation          3  24.0                        5   \n",
       "1  High School Diploma          4  26.0                        2   \n",
       "2        Matriculation          1  40.0                        1   \n",
       "3        Matriculation          3   NaN                        4   \n",
       "4  High School Diploma          1  42.0                        2   \n",
       "\n",
       "  is_handicapped  trainee_engagement_rating  is_pass  \n",
       "0              N                        1.0        0  \n",
       "1              N                        3.0        1  \n",
       "2              N                        2.0        1  \n",
       "3              N                        1.0        1  \n",
       "4              N                        4.0        1  "
      ]
     },
     "execution_count": 5,
     "metadata": {},
     "output_type": "execute_result"
    }
   ],
   "source": [
    "tr.head()"
   ]
  },
  {
   "cell_type": "code",
   "execution_count": 6,
   "metadata": {},
   "outputs": [
    {
     "data": {
      "text/html": [
       "<div>\n",
       "<style scoped>\n",
       "    .dataframe tbody tr th:only-of-type {\n",
       "        vertical-align: middle;\n",
       "    }\n",
       "\n",
       "    .dataframe tbody tr th {\n",
       "        vertical-align: top;\n",
       "    }\n",
       "\n",
       "    .dataframe thead th {\n",
       "        text-align: right;\n",
       "    }\n",
       "</style>\n",
       "<table border=\"1\" class=\"dataframe\">\n",
       "  <thead>\n",
       "    <tr style=\"text-align: right;\">\n",
       "      <th></th>\n",
       "      <th>program_type</th>\n",
       "      <th>program_duration</th>\n",
       "      <th>test_type</th>\n",
       "      <th>difficulty_level</th>\n",
       "      <th>gender</th>\n",
       "      <th>education</th>\n",
       "      <th>city_tier</th>\n",
       "      <th>age</th>\n",
       "      <th>total_programs_enrolled</th>\n",
       "      <th>is_handicapped</th>\n",
       "      <th>trainee_engagement_rating</th>\n",
       "    </tr>\n",
       "  </thead>\n",
       "  <tbody>\n",
       "    <tr>\n",
       "      <th>0</th>\n",
       "      <td>T</td>\n",
       "      <td>131</td>\n",
       "      <td>offline</td>\n",
       "      <td>intermediate</td>\n",
       "      <td>F</td>\n",
       "      <td>Matriculation</td>\n",
       "      <td>3</td>\n",
       "      <td>46.0</td>\n",
       "      <td>2</td>\n",
       "      <td>N</td>\n",
       "      <td>4.0</td>\n",
       "    </tr>\n",
       "    <tr>\n",
       "      <th>1</th>\n",
       "      <td>Y</td>\n",
       "      <td>135</td>\n",
       "      <td>online</td>\n",
       "      <td>easy</td>\n",
       "      <td>M</td>\n",
       "      <td>Bachelors</td>\n",
       "      <td>3</td>\n",
       "      <td>NaN</td>\n",
       "      <td>4</td>\n",
       "      <td>N</td>\n",
       "      <td>4.0</td>\n",
       "    </tr>\n",
       "    <tr>\n",
       "      <th>2</th>\n",
       "      <td>Y</td>\n",
       "      <td>120</td>\n",
       "      <td>online</td>\n",
       "      <td>easy</td>\n",
       "      <td>M</td>\n",
       "      <td>Matriculation</td>\n",
       "      <td>3</td>\n",
       "      <td>NaN</td>\n",
       "      <td>2</td>\n",
       "      <td>N</td>\n",
       "      <td>3.0</td>\n",
       "    </tr>\n",
       "    <tr>\n",
       "      <th>3</th>\n",
       "      <td>V</td>\n",
       "      <td>122</td>\n",
       "      <td>offline</td>\n",
       "      <td>vary hard</td>\n",
       "      <td>F</td>\n",
       "      <td>High School Diploma</td>\n",
       "      <td>1</td>\n",
       "      <td>NaN</td>\n",
       "      <td>2</td>\n",
       "      <td>N</td>\n",
       "      <td>2.0</td>\n",
       "    </tr>\n",
       "    <tr>\n",
       "      <th>4</th>\n",
       "      <td>V</td>\n",
       "      <td>122</td>\n",
       "      <td>offline</td>\n",
       "      <td>intermediate</td>\n",
       "      <td>F</td>\n",
       "      <td>Matriculation</td>\n",
       "      <td>3</td>\n",
       "      <td>NaN</td>\n",
       "      <td>2</td>\n",
       "      <td>N</td>\n",
       "      <td>2.0</td>\n",
       "    </tr>\n",
       "  </tbody>\n",
       "</table>\n",
       "</div>"
      ],
      "text/plain": [
       "  program_type  program_duration test_type difficulty_level gender  \\\n",
       "0            T               131   offline     intermediate      F   \n",
       "1            Y               135    online             easy      M   \n",
       "2            Y               120    online             easy      M   \n",
       "3            V               122   offline        vary hard      F   \n",
       "4            V               122   offline     intermediate      F   \n",
       "\n",
       "             education  city_tier   age  total_programs_enrolled  \\\n",
       "0        Matriculation          3  46.0                        2   \n",
       "1            Bachelors          3   NaN                        4   \n",
       "2        Matriculation          3   NaN                        2   \n",
       "3  High School Diploma          1   NaN                        2   \n",
       "4        Matriculation          3   NaN                        2   \n",
       "\n",
       "  is_handicapped  trainee_engagement_rating  \n",
       "0              N                        4.0  \n",
       "1              N                        4.0  \n",
       "2              N                        3.0  \n",
       "3              N                        2.0  \n",
       "4              N                        2.0  "
      ]
     },
     "execution_count": 6,
     "metadata": {},
     "output_type": "execute_result"
    }
   ],
   "source": [
    "te.head()"
   ]
  },
  {
   "cell_type": "code",
   "execution_count": 7,
   "metadata": {},
   "outputs": [
    {
     "data": {
      "image/png": "[encoded data removed]",
      "text/plain": [
       "<matplotlib.figure.Figure at 0x7effe246b0f0>"
      ]
     },
     "metadata": {},
     "output_type": "display_data"
    }
   ],
   "source": [
    "f,ax=plt.subplots(1,2,figsize=(18,8))\n",
    "train[['gender','is_pass']].groupby(['gender']).mean().plot.bar(ax=ax[0])\n",
    "ax[0].set_title('pass vs Sex')\n",
    "sns.countplot('gender',hue='is_pass',data=train,ax=ax[1])\n",
    "ax[1].set_title('Sex:pass vs fail')\n",
    "plt.show()"
   ]
  },
  {
   "cell_type": "code",
   "execution_count": 8,
   "metadata": {},
   "outputs": [
    {
     "data": {
      "image/png": "[encoded data removed]",
      "text/plain": [
       "<matplotlib.figure.Figure at 0x7f6fe2b64240>"
      ]
     },
     "metadata": {},
     "output_type": "display_data"
    }
   ],
   "source": [
    "f,ax=plt.subplots(1,2,figsize=(18,8))\n",
    "train[['trainee_engagement_rating','is_pass']].groupby(['trainee_engagement_rating']).mean().plot.bar(ax=ax[0])\n",
    "ax[0].set_title('pass vs trainee_engagement_rating')\n",
    "sns.countplot('trainee_engagement_rating',hue='is_pass',data=train,ax=ax[1])\n",
    "ax[1].set_title('trainee_engagement_rating:pass vs fail')\n",
    "plt.show()"
   ]
  },
  {
   "cell_type": "code",
   "execution_count": 9,
   "metadata": {},
   "outputs": [
    {
     "data": {
      "image/png": "[encoded data removed]",
      "text/plain": [
       "<matplotlib.figure.Figure at 0x7f6fe1b66c18>"
      ]
     },
     "metadata": {},
     "output_type": "display_data"
    }
   ],
   "source": [
    "f,ax=plt.subplots(1,2,figsize=(18,8))\n",
    "train[['city_tier','is_pass']].groupby(['city_tier']).mean().plot.bar(ax=ax[0])\n",
    "ax[0].set_title('pass vs city_tier')\n",
    "sns.countplot('city_tier',hue='is_pass',data=train,ax=ax[1])\n",
    "ax[1].set_title('city_tier:pass vs fail')\n",
    "plt.show()"
   ]
  },
  {
   "cell_type": "code",
   "execution_count": 10,
   "metadata": {},
   "outputs": [
    {
     "data": {
      "image/png": "[encoded data removed]",
      "text/plain": [
       "<matplotlib.figure.Figure at 0x7f6fe1afc8d0>"
      ]
     },
     "metadata": {},
     "output_type": "display_data"
    }
   ],
   "source": [
    "sns.factorplot('trainee_engagement_rating','is_pass',hue='gender',data=train)\n",
    "plt.show()"
   ]
  },
  {
   "cell_type": "code",
   "execution_count": 11,
   "metadata": {},
   "outputs": [
    {
     "data": {
      "text/html": [
       "<style  type=\"text/css\" >\n",
       "    #T_5ab807a0_5a8d_11e8_a76a_18cf5e833106row0_col0 {\n",
       "            background-color:  #e7f366;\n",
       "        }    #T_5ab807a0_5a8d_11e8_a76a_18cf5e833106row0_col1 {\n",
       "            background-color:  #e4f266;\n",
       "        }    #T_5ab807a0_5a8d_11e8_a76a_18cf5e833106row0_col2 {\n",
       "            background-color:  #e5f266;\n",
       "        }    #T_5ab807a0_5a8d_11e8_a76a_18cf5e833106row1_col0 {\n",
       "            background-color:  #73b966;\n",
       "        }    #T_5ab807a0_5a8d_11e8_a76a_18cf5e833106row1_col1 {\n",
       "            background-color:  #71b866;\n",
       "        }    #T_5ab807a0_5a8d_11e8_a76a_18cf5e833106row1_col2 {\n",
       "            background-color:  #72b866;\n",
       "        }    #T_5ab807a0_5a8d_11e8_a76a_18cf5e833106row2_col0 {\n",
       "            background-color:  #e5f266;\n",
       "        }    #T_5ab807a0_5a8d_11e8_a76a_18cf5e833106row2_col1 {\n",
       "            background-color:  #e5f266;\n",
       "        }    #T_5ab807a0_5a8d_11e8_a76a_18cf5e833106row2_col2 {\n",
       "            background-color:  #e5f266;\n",
       "        }    #T_5ab807a0_5a8d_11e8_a76a_18cf5e833106row3_col0 {\n",
       "            background-color:  #d0e866;\n",
       "        }    #T_5ab807a0_5a8d_11e8_a76a_18cf5e833106row3_col1 {\n",
       "            background-color:  #d0e866;\n",
       "        }    #T_5ab807a0_5a8d_11e8_a76a_18cf5e833106row3_col2 {\n",
       "            background-color:  #d0e866;\n",
       "        }    #T_5ab807a0_5a8d_11e8_a76a_18cf5e833106row4_col0 {\n",
       "            background-color:  #f8fc66;\n",
       "        }    #T_5ab807a0_5a8d_11e8_a76a_18cf5e833106row4_col1 {\n",
       "            background-color:  #fafc66;\n",
       "        }    #T_5ab807a0_5a8d_11e8_a76a_18cf5e833106row4_col2 {\n",
       "            background-color:  #fafc66;\n",
       "        }    #T_5ab807a0_5a8d_11e8_a76a_18cf5e833106row5_col0 {\n",
       "            background-color:  #fafc66;\n",
       "        }    #T_5ab807a0_5a8d_11e8_a76a_18cf5e833106row5_col1 {\n",
       "            background-color:  #fbfd66;\n",
       "        }    #T_5ab807a0_5a8d_11e8_a76a_18cf5e833106row5_col2 {\n",
       "            background-color:  #fafc66;\n",
       "        }    #T_5ab807a0_5a8d_11e8_a76a_18cf5e833106row6_col0 {\n",
       "            background-color:  #fefe66;\n",
       "        }    #T_5ab807a0_5a8d_11e8_a76a_18cf5e833106row6_col1 {\n",
       "            background-color:  #ffff66;\n",
       "        }    #T_5ab807a0_5a8d_11e8_a76a_18cf5e833106row6_col2 {\n",
       "            background-color:  #ffff66;\n",
       "        }    #T_5ab807a0_5a8d_11e8_a76a_18cf5e833106row7_col0 {\n",
       "            background-color:  #fefe66;\n",
       "        }    #T_5ab807a0_5a8d_11e8_a76a_18cf5e833106row7_col1 {\n",
       "            background-color:  #ffff66;\n",
       "        }    #T_5ab807a0_5a8d_11e8_a76a_18cf5e833106row7_col2 {\n",
       "            background-color:  #fefe66;\n",
       "        }    #T_5ab807a0_5a8d_11e8_a76a_18cf5e833106row8_col0 {\n",
       "            background-color:  #ffff66;\n",
       "        }    #T_5ab807a0_5a8d_11e8_a76a_18cf5e833106row8_col1 {\n",
       "            background-color:  #ffff66;\n",
       "        }    #T_5ab807a0_5a8d_11e8_a76a_18cf5e833106row8_col2 {\n",
       "            background-color:  #ffff66;\n",
       "        }    #T_5ab807a0_5a8d_11e8_a76a_18cf5e833106row9_col0 {\n",
       "            background-color:  #ffff66;\n",
       "        }    #T_5ab807a0_5a8d_11e8_a76a_18cf5e833106row9_col1 {\n",
       "            background-color:  #ffff66;\n",
       "        }    #T_5ab807a0_5a8d_11e8_a76a_18cf5e833106row9_col2 {\n",
       "            background-color:  #ffff66;\n",
       "        }    #T_5ab807a0_5a8d_11e8_a76a_18cf5e833106row10_col0 {\n",
       "            background-color:  #ffff66;\n",
       "        }    #T_5ab807a0_5a8d_11e8_a76a_18cf5e833106row10_col1 {\n",
       "            background-color:  #ffff66;\n",
       "        }    #T_5ab807a0_5a8d_11e8_a76a_18cf5e833106row10_col2 {\n",
       "            background-color:  #ffff66;\n",
       "        }    #T_5ab807a0_5a8d_11e8_a76a_18cf5e833106row11_col0 {\n",
       "            background-color:  #ffff66;\n",
       "        }    #T_5ab807a0_5a8d_11e8_a76a_18cf5e833106row11_col1 {\n",
       "            background-color:  #ffff66;\n",
       "        }    #T_5ab807a0_5a8d_11e8_a76a_18cf5e833106row11_col2 {\n",
       "            background-color:  #ffff66;\n",
       "        }    #T_5ab807a0_5a8d_11e8_a76a_18cf5e833106row12_col0 {\n",
       "            background-color:  #ffff66;\n",
       "        }    #T_5ab807a0_5a8d_11e8_a76a_18cf5e833106row12_col1 {\n",
       "            background-color:  #ffff66;\n",
       "        }    #T_5ab807a0_5a8d_11e8_a76a_18cf5e833106row12_col2 {\n",
       "            background-color:  #ffff66;\n",
       "        }    #T_5ab807a0_5a8d_11e8_a76a_18cf5e833106row13_col0 {\n",
       "            background-color:  #008066;\n",
       "        }    #T_5ab807a0_5a8d_11e8_a76a_18cf5e833106row13_col1 {\n",
       "            background-color:  #008066;\n",
       "        }    #T_5ab807a0_5a8d_11e8_a76a_18cf5e833106row13_col2 {\n",
       "            background-color:  #008066;\n",
       "        }</style>  \n",
       "<table id=\"T_5ab807a0_5a8d_11e8_a76a_18cf5e833106\" > \n",
       "<thead>    <tr> \n",
       "        <th class=\"index_name level0\" >is_pass</th> \n",
       "        <th class=\"col_heading level0 col0\" >0</th> \n",
       "        <th class=\"col_heading level0 col1\" >1</th> \n",
       "        <th class=\"col_heading level0 col2\" >All</th> \n",
       "    </tr>    <tr> \n",
       "        <th class=\"index_name level0\" >total_programs_enrolled</th> \n",
       "        <th class=\"blank\" ></th> \n",
       "        <th class=\"blank\" ></th> \n",
       "        <th class=\"blank\" ></th> \n",
       "    </tr></thead> \n",
       "<tbody>    <tr> \n",
       "        <th id=\"T_5ab807a0_5a8d_11e8_a76a_18cf5e833106level0_row0\" class=\"row_heading level0 row0\" >1</th> \n",
       "        <td id=\"T_5ab807a0_5a8d_11e8_a76a_18cf5e833106row0_col0\" class=\"data row0 col0\" >2127</td> \n",
       "        <td id=\"T_5ab807a0_5a8d_11e8_a76a_18cf5e833106row0_col1\" class=\"data row0 col1\" >5395</td> \n",
       "        <td id=\"T_5ab807a0_5a8d_11e8_a76a_18cf5e833106row0_col2\" class=\"data row0 col2\" >7522</td> \n",
       "    </tr>    <tr> \n",
       "        <th id=\"T_5ab807a0_5a8d_11e8_a76a_18cf5e833106level0_row1\" class=\"row_heading level0 row1\" >2</th> \n",
       "        <td id=\"T_5ab807a0_5a8d_11e8_a76a_18cf5e833106row1_col0\" class=\"data row1 col0\" >12234</td> \n",
       "        <td id=\"T_5ab807a0_5a8d_11e8_a76a_18cf5e833106row1_col1\" class=\"data row1 col1\" >28304</td> \n",
       "        <td id=\"T_5ab807a0_5a8d_11e8_a76a_18cf5e833106row1_col2\" class=\"data row1 col2\" >40538</td> \n",
       "    </tr>    <tr> \n",
       "        <th id=\"T_5ab807a0_5a8d_11e8_a76a_18cf5e833106level0_row2\" class=\"row_heading level0 row2\" >3</th> \n",
       "        <td id=\"T_5ab807a0_5a8d_11e8_a76a_18cf5e833106row2_col0\" class=\"data row2 col0\" >2342</td> \n",
       "        <td id=\"T_5ab807a0_5a8d_11e8_a76a_18cf5e833106row2_col1\" class=\"data row2 col1\" >5310</td> \n",
       "        <td id=\"T_5ab807a0_5a8d_11e8_a76a_18cf5e833106row2_col2\" class=\"data row2 col2\" >7652</td> \n",
       "    </tr>    <tr> \n",
       "        <th id=\"T_5ab807a0_5a8d_11e8_a76a_18cf5e833106level0_row3\" class=\"row_heading level0 row3\" >4</th> \n",
       "        <td id=\"T_5ab807a0_5a8d_11e8_a76a_18cf5e833106row3_col0\" class=\"data row3 col0\" >4122</td> \n",
       "        <td id=\"T_5ab807a0_5a8d_11e8_a76a_18cf5e833106row3_col1\" class=\"data row3 col1\" >9399</td> \n",
       "        <td id=\"T_5ab807a0_5a8d_11e8_a76a_18cf5e833106row3_col2\" class=\"data row3 col2\" >13521</td> \n",
       "    </tr>    <tr> \n",
       "        <th id=\"T_5ab807a0_5a8d_11e8_a76a_18cf5e833106level0_row4\" class=\"row_heading level0 row4\" >5</th> \n",
       "        <td id=\"T_5ab807a0_5a8d_11e8_a76a_18cf5e833106row4_col0\" class=\"data row4 col0\" >634</td> \n",
       "        <td id=\"T_5ab807a0_5a8d_11e8_a76a_18cf5e833106row4_col1\" class=\"data row4 col1\" >1071</td> \n",
       "        <td id=\"T_5ab807a0_5a8d_11e8_a76a_18cf5e833106row4_col2\" class=\"data row4 col2\" >1705</td> \n",
       "    </tr>    <tr> \n",
       "        <th id=\"T_5ab807a0_5a8d_11e8_a76a_18cf5e833106level0_row5\" class=\"row_heading level0 row5\" >6</th> \n",
       "        <td id=\"T_5ab807a0_5a8d_11e8_a76a_18cf5e833106row5_col0\" class=\"data row5 col0\" >517</td> \n",
       "        <td id=\"T_5ab807a0_5a8d_11e8_a76a_18cf5e833106row5_col1\" class=\"data row5 col1\" >941</td> \n",
       "        <td id=\"T_5ab807a0_5a8d_11e8_a76a_18cf5e833106row5_col2\" class=\"data row5 col2\" >1458</td> \n",
       "    </tr>    <tr> \n",
       "        <th id=\"T_5ab807a0_5a8d_11e8_a76a_18cf5e833106level0_row6\" class=\"row_heading level0 row6\" >7</th> \n",
       "        <td id=\"T_5ab807a0_5a8d_11e8_a76a_18cf5e833106row6_col0\" class=\"data row6 col0\" >101</td> \n",
       "        <td id=\"T_5ab807a0_5a8d_11e8_a76a_18cf5e833106row6_col1\" class=\"data row6 col1\" >185</td> \n",
       "        <td id=\"T_5ab807a0_5a8d_11e8_a76a_18cf5e833106row6_col2\" class=\"data row6 col2\" >286</td> \n",
       "    </tr>    <tr> \n",
       "        <th id=\"T_5ab807a0_5a8d_11e8_a76a_18cf5e833106level0_row7\" class=\"row_heading level0 row7\" >8</th> \n",
       "        <td id=\"T_5ab807a0_5a8d_11e8_a76a_18cf5e833106row7_col0\" class=\"data row7 col0\" >119</td> \n",
       "        <td id=\"T_5ab807a0_5a8d_11e8_a76a_18cf5e833106row7_col1\" class=\"data row7 col1\" >181</td> \n",
       "        <td id=\"T_5ab807a0_5a8d_11e8_a76a_18cf5e833106row7_col2\" class=\"data row7 col2\" >300</td> \n",
       "    </tr>    <tr> \n",
       "        <th id=\"T_5ab807a0_5a8d_11e8_a76a_18cf5e833106level0_row8\" class=\"row_heading level0 row8\" >9</th> \n",
       "        <td id=\"T_5ab807a0_5a8d_11e8_a76a_18cf5e833106row8_col0\" class=\"data row8 col0\" >46</td> \n",
       "        <td id=\"T_5ab807a0_5a8d_11e8_a76a_18cf5e833106row8_col1\" class=\"data row8 col1\" >33</td> \n",
       "        <td id=\"T_5ab807a0_5a8d_11e8_a76a_18cf5e833106row8_col2\" class=\"data row8 col2\" >79</td> \n",
       "    </tr>    <tr> \n",
       "        <th id=\"T_5ab807a0_5a8d_11e8_a76a_18cf5e833106level0_row9\" class=\"row_heading level0 row9\" >10</th> \n",
       "        <td id=\"T_5ab807a0_5a8d_11e8_a76a_18cf5e833106row9_col0\" class=\"data row9 col0\" >9</td> \n",
       "        <td id=\"T_5ab807a0_5a8d_11e8_a76a_18cf5e833106row9_col1\" class=\"data row9 col1\" >21</td> \n",
       "        <td id=\"T_5ab807a0_5a8d_11e8_a76a_18cf5e833106row9_col2\" class=\"data row9 col2\" >30</td> \n",
       "    </tr>    <tr> \n",
       "        <th id=\"T_5ab807a0_5a8d_11e8_a76a_18cf5e833106level0_row10\" class=\"row_heading level0 row10\" >11</th> \n",
       "        <td id=\"T_5ab807a0_5a8d_11e8_a76a_18cf5e833106row10_col0\" class=\"data row10 col0\" >6</td> \n",
       "        <td id=\"T_5ab807a0_5a8d_11e8_a76a_18cf5e833106row10_col1\" class=\"data row10 col1\" >9</td> \n",
       "        <td id=\"T_5ab807a0_5a8d_11e8_a76a_18cf5e833106row10_col2\" class=\"data row10 col2\" >15</td> \n",
       "    </tr>    <tr> \n",
       "        <th id=\"T_5ab807a0_5a8d_11e8_a76a_18cf5e833106level0_row11\" class=\"row_heading level0 row11\" >12</th> \n",
       "        <td id=\"T_5ab807a0_5a8d_11e8_a76a_18cf5e833106row11_col0\" class=\"data row11 col0\" >19</td> \n",
       "        <td id=\"T_5ab807a0_5a8d_11e8_a76a_18cf5e833106row11_col1\" class=\"data row11 col1\" >9</td> \n",
       "        <td id=\"T_5ab807a0_5a8d_11e8_a76a_18cf5e833106row11_col2\" class=\"data row11 col2\" >28</td> \n",
       "    </tr>    <tr> \n",
       "        <th id=\"T_5ab807a0_5a8d_11e8_a76a_18cf5e833106level0_row12\" class=\"row_heading level0 row12\" >14</th> \n",
       "        <td id=\"T_5ab807a0_5a8d_11e8_a76a_18cf5e833106row12_col0\" class=\"data row12 col0\" >4</td> \n",
       "        <td id=\"T_5ab807a0_5a8d_11e8_a76a_18cf5e833106row12_col1\" class=\"data row12 col1\" >9</td> \n",
       "        <td id=\"T_5ab807a0_5a8d_11e8_a76a_18cf5e833106row12_col2\" class=\"data row12 col2\" >13</td> \n",
       "    </tr>    <tr> \n",
       "        <th id=\"T_5ab807a0_5a8d_11e8_a76a_18cf5e833106level0_row13\" class=\"row_heading level0 row13\" >All</th> \n",
       "        <td id=\"T_5ab807a0_5a8d_11e8_a76a_18cf5e833106row13_col0\" class=\"data row13 col0\" >22280</td> \n",
       "        <td id=\"T_5ab807a0_5a8d_11e8_a76a_18cf5e833106row13_col1\" class=\"data row13 col1\" >50867</td> \n",
       "        <td id=\"T_5ab807a0_5a8d_11e8_a76a_18cf5e833106row13_col2\" class=\"data row13 col2\" >73147</td> \n",
       "    </tr></tbody> \n",
       "</table> "
      ],
      "text/plain": [
       "<pandas.io.formats.style.Styler at 0x7f6fe2b64128>"
      ]
     },
     "execution_count": 11,
     "metadata": {},
     "output_type": "execute_result"
    }
   ],
   "source": [
    "pd.crosstab(train.total_programs_enrolled,train.is_pass,margins=True).style.background_gradient(cmap='summer_r')"
   ]
  },
  {
   "cell_type": "code",
   "execution_count": 12,
   "metadata": {},
   "outputs": [
    {
     "data": {
      "image/png": "[encoded data removed]",
      "text/plain": [
       "<matplotlib.figure.Figure at 0x7f6fdf1e8240>"
      ]
     },
     "metadata": {},
     "output_type": "display_data"
    }
   ],
   "source": [
    "f,ax=plt.subplots(1,2,figsize=(18,8))\n",
    "train['total_programs_enrolled'].value_counts().plot.bar(color=['#CD7F32','#FFDF00','#D3D3D3'],ax=ax[0])\n",
    "ax[0].set_title('Number Of Passengers By Pclass')\n",
    "ax[0].set_ylabel('Count')\n",
    "sns.countplot('total_programs_enrolled',hue='is_pass',data=train,ax=ax[1])\n",
    "ax[1].set_title('pogram:pass vs fail')\n",
    "plt.show()"
   ]
  },
  {
   "cell_type": "code",
   "execution_count": 13,
   "metadata": {},
   "outputs": [
    {
     "data": {
      "image/png": "[encoded data removed]",
      "text/plain": [
       "<matplotlib.figure.Figure at 0x7f6fdf6f55f8>"
      ]
     },
     "metadata": {},
     "output_type": "display_data"
    }
   ],
   "source": [
    "f,ax=plt.subplots(1,2,figsize=(18,8))\n",
    "train[['is_handicapped','is_pass']].groupby(['is_handicapped']).mean().plot.bar(ax=ax[0])\n",
    "ax[0].set_title('pass vs is_handicapped')\n",
    "sns.countplot('is_handicapped',hue='is_pass',data=train,ax=ax[1])\n",
    "ax[1].set_title('is_handicapped:pass vs fail')\n",
    "plt.show()"
   ]
  },
  {
   "cell_type": "code",
   "execution_count": 14,
   "metadata": {},
   "outputs": [
    {
     "data": {
      "image/png": "[encoded data removed]",
      "text/plain": [
       "<matplotlib.figure.Figure at 0x7f6fdefebf98>"
      ]
     },
     "metadata": {},
     "output_type": "display_data"
    }
   ],
   "source": [
    "f,ax=plt.subplots(1,2,figsize=(18,8))\n",
    "train[['education','is_pass']].groupby(['education']).mean().plot.bar(ax=ax[0])\n",
    "ax[0].set_title('pass vs edu')\n",
    "sns.countplot('education',hue='is_pass',data=train,ax=ax[1])\n",
    "ax[1].set_title('education:pass vs fail')\n",
    "plt.show()"
   ]
  },
  {
   "cell_type": "code",
   "execution_count": 15,
   "metadata": {},
   "outputs": [
    {
     "data": {
      "text/html": [
       "<div>\n",
       "<style scoped>\n",
       "    .dataframe tbody tr th:only-of-type {\n",
       "        vertical-align: middle;\n",
       "    }\n",
       "\n",
       "    .dataframe tbody tr th {\n",
       "        vertical-align: top;\n",
       "    }\n",
       "\n",
       "    .dataframe thead th {\n",
       "        text-align: right;\n",
       "    }\n",
       "</style>\n",
       "<table border=\"1\" class=\"dataframe\">\n",
       "  <thead>\n",
       "    <tr style=\"text-align: right;\">\n",
       "      <th></th>\n",
       "      <th>id</th>\n",
       "      <th>program_id</th>\n",
       "      <th>program_type</th>\n",
       "      <th>program_duration</th>\n",
       "      <th>test_id</th>\n",
       "      <th>test_type</th>\n",
       "      <th>difficulty_level</th>\n",
       "      <th>trainee_id</th>\n",
       "      <th>gender</th>\n",
       "      <th>education</th>\n",
       "      <th>city_tier</th>\n",
       "      <th>age</th>\n",
       "      <th>total_programs_enrolled</th>\n",
       "      <th>is_handicapped</th>\n",
       "      <th>trainee_engagement_rating</th>\n",
       "      <th>is_pass</th>\n",
       "    </tr>\n",
       "  </thead>\n",
       "  <tbody>\n",
       "    <tr>\n",
       "      <th>0</th>\n",
       "      <td>9389_150</td>\n",
       "      <td>Y_1</td>\n",
       "      <td>Y</td>\n",
       "      <td>136</td>\n",
       "      <td>150</td>\n",
       "      <td>offline</td>\n",
       "      <td>intermediate</td>\n",
       "      <td>9389</td>\n",
       "      <td>M</td>\n",
       "      <td>Matriculation</td>\n",
       "      <td>3</td>\n",
       "      <td>24.0</td>\n",
       "      <td>5</td>\n",
       "      <td>N</td>\n",
       "      <td>1.0</td>\n",
       "      <td>0</td>\n",
       "    </tr>\n",
       "    <tr>\n",
       "      <th>1</th>\n",
       "      <td>16523_44</td>\n",
       "      <td>T_1</td>\n",
       "      <td>T</td>\n",
       "      <td>131</td>\n",
       "      <td>44</td>\n",
       "      <td>offline</td>\n",
       "      <td>easy</td>\n",
       "      <td>16523</td>\n",
       "      <td>F</td>\n",
       "      <td>High School Diploma</td>\n",
       "      <td>4</td>\n",
       "      <td>26.0</td>\n",
       "      <td>2</td>\n",
       "      <td>N</td>\n",
       "      <td>3.0</td>\n",
       "      <td>1</td>\n",
       "    </tr>\n",
       "    <tr>\n",
       "      <th>2</th>\n",
       "      <td>13987_178</td>\n",
       "      <td>Z_2</td>\n",
       "      <td>Z</td>\n",
       "      <td>120</td>\n",
       "      <td>178</td>\n",
       "      <td>online</td>\n",
       "      <td>easy</td>\n",
       "      <td>13987</td>\n",
       "      <td>M</td>\n",
       "      <td>Matriculation</td>\n",
       "      <td>1</td>\n",
       "      <td>40.0</td>\n",
       "      <td>1</td>\n",
       "      <td>N</td>\n",
       "      <td>2.0</td>\n",
       "      <td>1</td>\n",
       "    </tr>\n",
       "    <tr>\n",
       "      <th>3</th>\n",
       "      <td>13158_32</td>\n",
       "      <td>T_2</td>\n",
       "      <td>T</td>\n",
       "      <td>117</td>\n",
       "      <td>32</td>\n",
       "      <td>offline</td>\n",
       "      <td>easy</td>\n",
       "      <td>13158</td>\n",
       "      <td>F</td>\n",
       "      <td>Matriculation</td>\n",
       "      <td>3</td>\n",
       "      <td>NaN</td>\n",
       "      <td>4</td>\n",
       "      <td>N</td>\n",
       "      <td>1.0</td>\n",
       "      <td>1</td>\n",
       "    </tr>\n",
       "    <tr>\n",
       "      <th>4</th>\n",
       "      <td>10591_84</td>\n",
       "      <td>V_3</td>\n",
       "      <td>V</td>\n",
       "      <td>131</td>\n",
       "      <td>84</td>\n",
       "      <td>offline</td>\n",
       "      <td>intermediate</td>\n",
       "      <td>10591</td>\n",
       "      <td>F</td>\n",
       "      <td>High School Diploma</td>\n",
       "      <td>1</td>\n",
       "      <td>42.0</td>\n",
       "      <td>2</td>\n",
       "      <td>N</td>\n",
       "      <td>4.0</td>\n",
       "      <td>1</td>\n",
       "    </tr>\n",
       "  </tbody>\n",
       "</table>\n",
       "</div>"
      ],
      "text/plain": [
       "          id program_id program_type  program_duration  test_id test_type  \\\n",
       "0   9389_150        Y_1            Y               136      150   offline   \n",
       "1   16523_44        T_1            T               131       44   offline   \n",
       "2  13987_178        Z_2            Z               120      178    online   \n",
       "3   13158_32        T_2            T               117       32   offline   \n",
       "4   10591_84        V_3            V               131       84   offline   \n",
       "\n",
       "  difficulty_level  trainee_id gender            education  city_tier   age  \\\n",
       "0     intermediate        9389      M        Matriculation          3  24.0   \n",
       "1             easy       16523      F  High School Diploma          4  26.0   \n",
       "2             easy       13987      M        Matriculation          1  40.0   \n",
       "3             easy       13158      F        Matriculation          3   NaN   \n",
       "4     intermediate       10591      F  High School Diploma          1  42.0   \n",
       "\n",
       "   total_programs_enrolled is_handicapped  trainee_engagement_rating  is_pass  \n",
       "0                        5              N                        1.0        0  \n",
       "1                        2              N                        3.0        1  \n",
       "2                        1              N                        2.0        1  \n",
       "3                        4              N                        1.0        1  \n",
       "4                        2              N                        4.0        1  "
      ]
     },
     "execution_count": 15,
     "metadata": {},
     "output_type": "execute_result"
    }
   ],
   "source": [
    "train.head()"
   ]
  },
  {
   "cell_type": "code",
   "execution_count": 16,
   "metadata": {},
   "outputs": [
    {
     "data": {
      "image/png": "[encoded data removed]",
      "text/plain": [
       "<matplotlib.figure.Figure at 0x7f6fdf1f9470>"
      ]
     },
     "metadata": {},
     "output_type": "display_data"
    }
   ],
   "source": [
    "f,ax=plt.subplots(1,2,figsize=(18,8))\n",
    "train[['difficulty_level','is_pass']].groupby(['difficulty_level']).mean().plot.bar(ax=ax[0])\n",
    "ax[0].set_title('pass vs difficulty_level')\n",
    "sns.countplot('difficulty_level',hue='is_pass',data=train,ax=ax[1])\n",
    "ax[1].set_title('difficulty_level:pass vs fail')\n",
    "plt.show()"
   ]
  },
  {
   "cell_type": "code",
   "execution_count": 17,
   "metadata": {},
   "outputs": [
    {
     "data": {
      "image/png": "[encoded data removed]",
      "text/plain": [
       "<matplotlib.figure.Figure at 0x7f6fdee11e48>"
      ]
     },
     "metadata": {},
     "output_type": "display_data"
    }
   ],
   "source": [
    "f,ax=plt.subplots(1,2,figsize=(18,8))\n",
    "train[['test_type','is_pass']].groupby(['test_type']).mean().plot.bar(ax=ax[0])\n",
    "ax[0].set_title('pass vs test_type')\n",
    "sns.countplot('test_type',hue='is_pass',data=train,ax=ax[1])\n",
    "ax[1].set_title('test_type:pass vs fail')\n",
    "plt.show()"
   ]
  },
  {
   "cell_type": "code",
   "execution_count": 18,
   "metadata": {},
   "outputs": [
    {
     "data": {
      "image/png": "[encoded data removed]",
      "text/plain": [
       "<matplotlib.figure.Figure at 0x7f6fdef303c8>"
      ]
     },
     "metadata": {},
     "output_type": "display_data"
    }
   ],
   "source": [
    "f,ax=plt.subplots(1,2,figsize=(18,8))\n",
    "train[['program_type','is_pass']].groupby(['program_type']).mean().plot.bar(ax=ax[0])\n",
    "ax[0].set_title('pass vs program_type')\n",
    "sns.countplot('program_type',hue='is_pass',data=train,ax=ax[1])\n",
    "ax[1].set_title('program_type:pass vs fail')\n",
    "plt.show()"
   ]
  },
  {
   "cell_type": "code",
   "execution_count": 19,
   "metadata": {},
   "outputs": [
    {
     "data": {
      "image/png": "[encoded data removed]",
      "text/plain": [
       "<matplotlib.figure.Figure at 0x7f6fdf7c3f98>"
      ]
     },
     "metadata": {},
     "output_type": "display_data"
    }
   ],
   "source": [
    "f,ax=plt.subplots(1,2,figsize=(20,10))\n",
    "train[train['is_pass']==0].age.plot.hist(ax=ax[0],bins=20,edgecolor='black',color='red')\n",
    "ax[0].set_title('is_pass= 0')\n",
    "x1=list(range(0,85,5))\n",
    "ax[0].set_xticks(x1)\n",
    "train[train['is_pass']==1].age.plot.hist(ax=ax[1],color='green',bins=20,edgecolor='black')\n",
    "ax[1].set_title('is_pass= 1')\n",
    "x2=list(range(0,85,5))\n",
    "ax[1].set_xticks(x2)\n",
    "plt.show()"
   ]
  },
  {
   "cell_type": "code",
   "execution_count": 137,
   "metadata": {},
   "outputs": [],
   "source": [
    "######################################\n",
    "\n",
    "# X=tr.iloc[:,:-1].values\n",
    "Y=train.iloc[:,-1].values\n",
    "\n",
    "X=np.array(train[['test_type','difficulty_level','education', 'trainee_engagement_rating','program_duration' ,'city_tier','total_programs_enrolled','age','program_type','gender']])\n",
    "test_X=np.array(test[['test_type','difficulty_level','education', 'trainee_engagement_rating','program_duration','city_tier','total_programs_enrolled','age','program_type','gender']])"
   ]
  },
  {
   "cell_type": "code",
   "execution_count": 138,
   "metadata": {},
   "outputs": [
    {
     "data": {
      "text/html": [
       "<div>\n",
       "<style scoped>\n",
       "    .dataframe tbody tr th:only-of-type {\n",
       "        vertical-align: middle;\n",
       "    }\n",
       "\n",
       "    .dataframe tbody tr th {\n",
       "        vertical-align: top;\n",
       "    }\n",
       "\n",
       "    .dataframe thead th {\n",
       "        text-align: right;\n",
       "    }\n",
       "</style>\n",
       "<table border=\"1\" class=\"dataframe\">\n",
       "  <thead>\n",
       "    <tr style=\"text-align: right;\">\n",
       "      <th></th>\n",
       "      <th>id</th>\n",
       "      <th>program_id</th>\n",
       "      <th>program_type</th>\n",
       "      <th>program_duration</th>\n",
       "      <th>test_id</th>\n",
       "      <th>test_type</th>\n",
       "      <th>difficulty_level</th>\n",
       "      <th>trainee_id</th>\n",
       "      <th>gender</th>\n",
       "      <th>education</th>\n",
       "      <th>city_tier</th>\n",
       "      <th>age</th>\n",
       "      <th>total_programs_enrolled</th>\n",
       "      <th>is_handicapped</th>\n",
       "      <th>trainee_engagement_rating</th>\n",
       "      <th>is_pass</th>\n",
       "    </tr>\n",
       "  </thead>\n",
       "  <tbody>\n",
       "    <tr>\n",
       "      <th>0</th>\n",
       "      <td>9389_150</td>\n",
       "      <td>Y_1</td>\n",
       "      <td>Y</td>\n",
       "      <td>136</td>\n",
       "      <td>150</td>\n",
       "      <td>offline</td>\n",
       "      <td>intermediate</td>\n",
       "      <td>9389</td>\n",
       "      <td>M</td>\n",
       "      <td>Matriculation</td>\n",
       "      <td>3</td>\n",
       "      <td>24.0</td>\n",
       "      <td>5</td>\n",
       "      <td>N</td>\n",
       "      <td>1.0</td>\n",
       "      <td>0</td>\n",
       "    </tr>\n",
       "    <tr>\n",
       "      <th>1</th>\n",
       "      <td>16523_44</td>\n",
       "      <td>T_1</td>\n",
       "      <td>T</td>\n",
       "      <td>131</td>\n",
       "      <td>44</td>\n",
       "      <td>offline</td>\n",
       "      <td>easy</td>\n",
       "      <td>16523</td>\n",
       "      <td>F</td>\n",
       "      <td>High School Diploma</td>\n",
       "      <td>4</td>\n",
       "      <td>26.0</td>\n",
       "      <td>2</td>\n",
       "      <td>N</td>\n",
       "      <td>3.0</td>\n",
       "      <td>1</td>\n",
       "    </tr>\n",
       "    <tr>\n",
       "      <th>2</th>\n",
       "      <td>13987_178</td>\n",
       "      <td>Z_2</td>\n",
       "      <td>Z</td>\n",
       "      <td>120</td>\n",
       "      <td>178</td>\n",
       "      <td>online</td>\n",
       "      <td>easy</td>\n",
       "      <td>13987</td>\n",
       "      <td>M</td>\n",
       "      <td>Matriculation</td>\n",
       "      <td>1</td>\n",
       "      <td>40.0</td>\n",
       "      <td>1</td>\n",
       "      <td>N</td>\n",
       "      <td>2.0</td>\n",
       "      <td>1</td>\n",
       "    </tr>\n",
       "    <tr>\n",
       "      <th>3</th>\n",
       "      <td>13158_32</td>\n",
       "      <td>T_2</td>\n",
       "      <td>T</td>\n",
       "      <td>117</td>\n",
       "      <td>32</td>\n",
       "      <td>offline</td>\n",
       "      <td>easy</td>\n",
       "      <td>13158</td>\n",
       "      <td>F</td>\n",
       "      <td>Matriculation</td>\n",
       "      <td>3</td>\n",
       "      <td>NaN</td>\n",
       "      <td>4</td>\n",
       "      <td>N</td>\n",
       "      <td>1.0</td>\n",
       "      <td>1</td>\n",
       "    </tr>\n",
       "    <tr>\n",
       "      <th>4</th>\n",
       "      <td>10591_84</td>\n",
       "      <td>V_3</td>\n",
       "      <td>V</td>\n",
       "      <td>131</td>\n",
       "      <td>84</td>\n",
       "      <td>offline</td>\n",
       "      <td>intermediate</td>\n",
       "      <td>10591</td>\n",
       "      <td>F</td>\n",
       "      <td>High School Diploma</td>\n",
       "      <td>1</td>\n",
       "      <td>42.0</td>\n",
       "      <td>2</td>\n",
       "      <td>N</td>\n",
       "      <td>4.0</td>\n",
       "      <td>1</td>\n",
       "    </tr>\n",
       "  </tbody>\n",
       "</table>\n",
       "</div>"
      ],
      "text/plain": [
       "          id program_id program_type  program_duration  test_id test_type  \\\n",
       "0   9389_150        Y_1            Y               136      150   offline   \n",
       "1   16523_44        T_1            T               131       44   offline   \n",
       "2  13987_178        Z_2            Z               120      178    online   \n",
       "3   13158_32        T_2            T               117       32   offline   \n",
       "4   10591_84        V_3            V               131       84   offline   \n",
       "\n",
       "  difficulty_level  trainee_id gender            education  city_tier   age  \\\n",
       "0     intermediate        9389      M        Matriculation          3  24.0   \n",
       "1             easy       16523      F  High School Diploma          4  26.0   \n",
       "2             easy       13987      M        Matriculation          1  40.0   \n",
       "3             easy       13158      F        Matriculation          3   NaN   \n",
       "4     intermediate       10591      F  High School Diploma          1  42.0   \n",
       "\n",
       "   total_programs_enrolled is_handicapped  trainee_engagement_rating  is_pass  \n",
       "0                        5              N                        1.0        0  \n",
       "1                        2              N                        3.0        1  \n",
       "2                        1              N                        2.0        1  \n",
       "3                        4              N                        1.0        1  \n",
       "4                        2              N                        4.0        1  "
      ]
     },
     "execution_count": 138,
     "metadata": {},
     "output_type": "execute_result"
    }
   ],
   "source": [
    "train.head()"
   ]
  },
  {
   "cell_type": "code",
   "execution_count": 139,
   "metadata": {},
   "outputs": [],
   "source": [
    "#test_X High School Diploma Matriculation Bachelors Masters No Qualification\n",
    "\n"
   ]
  },
  {
   "cell_type": "code",
   "execution_count": 140,
   "metadata": {},
   "outputs": [],
   "source": [
    "for i,j in enumerate(X[:,1]):\n",
    "#     print(type(i))\n",
    "        if j=='intermediate':\n",
    "            X[:,1][i]=1\n",
    "        elif j=='easy':\n",
    "            X[:,1][i]=0\n",
    "        elif j=='hard':\n",
    "            X[:,1][i]=2\n",
    "        elif j=='vary hard':\n",
    "            X[:,1][i]=3\n",
    "    \n",
    "        \n",
    "        "
   ]
  },
  {
   "cell_type": "code",
   "execution_count": 141,
   "metadata": {},
   "outputs": [],
   "source": [
    "for i,j in enumerate(test_X[:,1]):\n",
    "#     print(type(i))\n",
    "        if j=='intermediate':\n",
    "            test_X[:,1][i]=1\n",
    "        elif j=='easy':\n",
    "            test_X[:,1][i]=0\n",
    "        elif j=='hard':\n",
    "            test_X[:,1][i]=2\n",
    "        elif j=='vary hard':\n",
    "            test_X[:,1][i]=3"
   ]
  },
  {
   "cell_type": "code",
   "execution_count": 142,
   "metadata": {},
   "outputs": [],
   "source": [
    "for i,j in enumerate(X[:,0]):\n",
    "#     print(type(i))\n",
    "        if j=='offline':\n",
    "            X[:,0][i]=1\n",
    "        elif j=='online':\n",
    "            X[:,0][i]=0\n"
   ]
  },
  {
   "cell_type": "code",
   "execution_count": null,
   "metadata": {},
   "outputs": [],
   "source": []
  },
  {
   "cell_type": "code",
   "execution_count": 143,
   "metadata": {},
   "outputs": [],
   "source": [
    "for i,j in enumerate(test_X[:,0]):\n",
    "#     print(type(i))\n",
    "        if j=='offline':\n",
    "            test_X[:,0][i]=1\n",
    "        elif j=='online':\n",
    "            test_X[:,0][i]=0\n"
   ]
  },
  {
   "cell_type": "code",
   "execution_count": 144,
   "metadata": {},
   "outputs": [],
   "source": [
    "for i,j in enumerate(X[:,-1]):\n",
    "#     print(type(i))\n",
    "        if j=='M':\n",
    "            X[:,-1][i]=1\n",
    "        elif j=='F':\n",
    "            X[:,-1][i]=0\n"
   ]
  },
  {
   "cell_type": "code",
   "execution_count": 145,
   "metadata": {},
   "outputs": [],
   "source": [
    "for i,j in enumerate(test_X[:,-1]):\n",
    "#     print(type(i))\n",
    "        if j=='M':\n",
    "            test_X[:,-1][i]=1\n",
    "        elif j=='F':\n",
    "            test_X[:,-1][i]=0\n"
   ]
  },
  {
   "cell_type": "code",
   "execution_count": 146,
   "metadata": {},
   "outputs": [],
   "source": [
    "for i,j in enumerate(X[:,2]):\n",
    "#     print(type(i))\n",
    "        if j=='No Qualification':\n",
    "            X[:,2][i]=0\n",
    "        elif j=='Matriculation':\n",
    "            X[:,2][i]=1\n",
    "        elif j=='High School Diploma':\n",
    "            X[:,2][i]=2\n",
    "        elif j=='Bachelors':\n",
    "            X[:,2][i]=3\n",
    "        elif j=='Masters':\n",
    "            X[:,2][i]=4    "
   ]
  },
  {
   "cell_type": "code",
   "execution_count": 147,
   "metadata": {},
   "outputs": [],
   "source": [
    "for i,j in enumerate(X[:,-2]):\n",
    "#     print(type(i))\n",
    "        if j=='S':\n",
    "            X[:,-2][i]=0\n",
    "        elif j=='T':\n",
    "            X[:,-2][i]=1\n",
    "        elif j=='U':\n",
    "            X[:,-2][i]=2\n",
    "        elif j=='V':\n",
    "            X[:,-2][i]=3\n",
    "        elif j=='W':\n",
    "            X[:,-2][i]=4    \n",
    "        elif j=='X':\n",
    "            X[:,-2][i]=5 \n",
    "        elif j=='Y':\n",
    "            X[:,-2][i]=6 \n",
    "        elif j=='Z':\n",
    "            X[:,-2][i]=7         "
   ]
  },
  {
   "cell_type": "code",
   "execution_count": 148,
   "metadata": {},
   "outputs": [],
   "source": [
    "for i,j in enumerate(test_X[:,-2]):\n",
    "#     print(type(i))\n",
    "        if j=='S':\n",
    "            test_X[:,-2][i]=0\n",
    "        elif j=='T':\n",
    "            test_X[:,-2][i]=1\n",
    "        elif j=='U':\n",
    "            test_X[:,-2][i]=2\n",
    "        elif j=='V':\n",
    "            test_X[:,-2][i]=3\n",
    "        elif j=='W':\n",
    "            test_X[:,-2][i]=4    \n",
    "        elif j=='X':\n",
    "            test_X[:,-2][i]=5 \n",
    "        elif j=='Y':\n",
    "            test_X[:,-2][i]=6 \n",
    "        elif j=='Z':\n",
    "            test_X[:,-2][i]=7         "
   ]
  },
  {
   "cell_type": "code",
   "execution_count": 149,
   "metadata": {},
   "outputs": [],
   "source": [
    "for i,j in enumerate(test_X[:,2]):\n",
    "#     print(type(i))\n",
    "        if j=='No Qualification':\n",
    "            test_X[:,2][i]=0\n",
    "        elif j=='Matriculation':\n",
    "            test_X[:,2][i]=1\n",
    "        elif j=='High School Diploma':\n",
    "            test_X[:,2][i]=2\n",
    "        elif j=='Bachelors':\n",
    "            test_X[:,2][i]=3\n",
    "        elif j=='Masters':\n",
    "            test_X[:,2][i]=4    "
   ]
  },
  {
   "cell_type": "code",
   "execution_count": 150,
   "metadata": {},
   "outputs": [
    {
     "data": {
      "text/plain": [
       "(31349, 10)"
      ]
     },
     "execution_count": 150,
     "metadata": {},
     "output_type": "execute_result"
    }
   ],
   "source": [
    "test_X.shape"
   ]
  },
  {
   "cell_type": "code",
   "execution_count": 151,
   "metadata": {},
   "outputs": [],
   "source": [
    "engage=X[:,3]\n",
    "engage=engage.reshape(-1,1)\n",
    "from sklearn.preprocessing import Imputer\n",
    "imputer = Imputer(missing_values = 'NaN', strategy = 'most_frequent', axis = 0)\n",
    "imputer = imputer.fit(engage)\n",
    "engage = imputer.transform(engage)"
   ]
  },
  {
   "cell_type": "code",
   "execution_count": 152,
   "metadata": {},
   "outputs": [],
   "source": [
    "engage1=test_X[:,3]\n",
    "engage1=engage1.reshape(-1,1)\n",
    "from sklearn.preprocessing import Imputer\n",
    "imputer = Imputer(missing_values = 'NaN', strategy = 'most_frequent', axis = 0)\n",
    "imputer = imputer.fit(engage1)\n",
    "engage1 = imputer.transform(engage1)"
   ]
  },
  {
   "cell_type": "code",
   "execution_count": 153,
   "metadata": {},
   "outputs": [],
   "source": [
    "test_X[:,3]=engage1.reshape(1,-1)"
   ]
  },
  {
   "cell_type": "code",
   "execution_count": null,
   "metadata": {},
   "outputs": [],
   "source": []
  },
  {
   "cell_type": "code",
   "execution_count": 154,
   "metadata": {},
   "outputs": [],
   "source": [
    "X[:,3]=engage.reshape(1,-1)"
   ]
  },
  {
   "cell_type": "code",
   "execution_count": null,
   "metadata": {},
   "outputs": [],
   "source": []
  },
  {
   "cell_type": "code",
   "execution_count": 155,
   "metadata": {},
   "outputs": [
    {
     "data": {
      "text/plain": [
       "array([24.0, 26.0, 40.0, ..., nan, 27.0, 31.0], dtype=object)"
      ]
     },
     "execution_count": 155,
     "metadata": {},
     "output_type": "execute_result"
    }
   ],
   "source": [
    "X[:,7]"
   ]
  },
  {
   "cell_type": "code",
   "execution_count": 156,
   "metadata": {},
   "outputs": [],
   "source": [
    "age=X[:,7]\n",
    "age=age.reshape(-1,1)\n",
    "from sklearn.preprocessing import Imputer\n",
    "imputer = Imputer(missing_values = 'NaN', strategy = 'most_frequent', axis = 0)\n",
    "imputer = imputer.fit(age)\n",
    "age = imputer.transform(age)"
   ]
  },
  {
   "cell_type": "code",
   "execution_count": 157,
   "metadata": {},
   "outputs": [],
   "source": [
    "age1=test_X[:,7]\n",
    "age1=age1.reshape(-1,1)\n",
    "from sklearn.preprocessing import Imputer\n",
    "imputer = Imputer(missing_values = 'NaN', strategy = 'most_frequent', axis = 0)\n",
    "imputer = imputer.fit(age1)\n",
    "age1 = imputer.transform(age1)"
   ]
  },
  {
   "cell_type": "code",
   "execution_count": 158,
   "metadata": {},
   "outputs": [],
   "source": [
    "X[:,7]=age.reshape(1,-1)"
   ]
  },
  {
   "cell_type": "code",
   "execution_count": 159,
   "metadata": {},
   "outputs": [
    {
     "data": {
      "text/plain": [
       "array([[1, 1, 1, ..., 24.0, 6, 1],\n",
       "       [1, 0, 2, ..., 26.0, 1, 0],\n",
       "       [0, 0, 1, ..., 40.0, 7, 1],\n",
       "       ...,\n",
       "       [0, 0, 1, ..., 45.0, 6, 1],\n",
       "       [1, 1, 2, ..., 27.0, 3, 1],\n",
       "       [0, 0, 2, ..., 31.0, 6, 0]], dtype=object)"
      ]
     },
     "execution_count": 159,
     "metadata": {},
     "output_type": "execute_result"
    }
   ],
   "source": [
    "test_X[:,7]=age1.reshape(1,-1)\n",
    "X"
   ]
  },
  {
   "cell_type": "code",
   "execution_count": 160,
   "metadata": {},
   "outputs": [],
   "source": [
    "# from sklearn.preprocessing import LabelEncoder, OneHotEncoder\n",
    "# labelencoder_X = LabelEncoder()\n",
    "# #Encodes the Categorical values into numerical values\n",
    "# X[:,0] = labelencoder_X.fit_transform(X[:,0])\n",
    "# X[:,2] = labelencoder_X.fit_transform(X[:,2])\n",
    "# X[:,1] = labelencoder_X.fit_transform(X[:,1])#selecting the column \n",
    "# # X[:,4] = labelencoder_X.fit_transform(X[:,4])#selecting the column \n",
    "# # X[:,5] = labelencoder_X.fit_transform(X[:,5])#selecting the column \n"
   ]
  },
  {
   "cell_type": "code",
   "execution_count": 161,
   "metadata": {},
   "outputs": [],
   "source": [
    "# from sklearn.preprocessing import LabelEncoder, OneHotEncoder\n",
    "# labelencoder_X = LabelEncoder()\n",
    "# #Encodes the Categorical values into numerical values\n",
    "# test_X[:,0] = labelencoder_X.fit_transform(test_X[:,0])\n",
    "# test_X[:,2] = labelencoder_X.fit_transform(test_X[:,2])\n",
    "# test_X[:,1] = labelencoder_X.fit_transform(test_X[:,1])#selecting the column \n",
    "# # test_X[:,4] = labelencoder_X.fit_transform(test_X[:,4])#selecting the column \n",
    "# # test_X[:,5] = labelencoder_X.fit_transform(test_X[:,5])#selecting the column \n",
    "# # test_X[:,9] = labelencoder_X.fit_transform(test_X[:,9])#selecting the column \n"
   ]
  },
  {
   "cell_type": "code",
   "execution_count": 162,
   "metadata": {},
   "outputs": [],
   "source": [
    "# X[:,9] = labelencoder_X.fit_transform(X[:,9])#selecting the column \n"
   ]
  },
  {
   "cell_type": "code",
   "execution_count": 163,
   "metadata": {},
   "outputs": [
    {
     "data": {
      "text/plain": [
       "array([[1, 1, 1, ..., 46.0, 1, 0],\n",
       "       [0, 0, 3, ..., 45.0, 6, 1],\n",
       "       [0, 0, 1, ..., 45.0, 6, 1],\n",
       "       ...,\n",
       "       [0, 0, 3, ..., 45.0, 6, 1],\n",
       "       [1, 0, 1, ..., 45.0, 7, 0],\n",
       "       [1, 2, 1, ..., 26.0, 5, 1]], dtype=object)"
      ]
     },
     "execution_count": 163,
     "metadata": {},
     "output_type": "execute_result"
    }
   ],
   "source": [
    "test_X"
   ]
  },
  {
   "cell_type": "code",
   "execution_count": 164,
   "metadata": {},
   "outputs": [
    {
     "data": {
      "text/plain": [
       "array([[1, 1, 1, ..., 24.0, 6, 1],\n",
       "       [1, 0, 2, ..., 26.0, 1, 0],\n",
       "       [0, 0, 1, ..., 40.0, 7, 1],\n",
       "       ...,\n",
       "       [0, 0, 1, ..., 45.0, 6, 1],\n",
       "       [1, 1, 2, ..., 27.0, 3, 1],\n",
       "       [0, 0, 2, ..., 31.0, 6, 0]], dtype=object)"
      ]
     },
     "execution_count": 164,
     "metadata": {},
     "output_type": "execute_result"
    }
   ],
   "source": [
    "X"
   ]
  },
  {
   "cell_type": "code",
   "execution_count": 165,
   "metadata": {},
   "outputs": [],
   "source": [
    "# onehotencoder = OneHotEncoder(categorical_features= [0,1,2])#onehot encoder\n",
    "# X= onehotencoder.fit_transform(X).toarray()"
   ]
  },
  {
   "cell_type": "code",
   "execution_count": 166,
   "metadata": {},
   "outputs": [],
   "source": [
    "# onehotencoder = OneHotEncoder(categorical_features= [0,1,2])#onehot encoder\n",
    "# test_X= onehotencoder.fit_transform(test_X).toarray()"
   ]
  },
  {
   "cell_type": "code",
   "execution_count": 167,
   "metadata": {},
   "outputs": [],
   "source": [
    "# from sklearn.preprocessing import StandardScaler\n",
    "# sc_X = StandardScaler() \n",
    "# X = sc_X.fit_transform(X)\n",
    "# test_X = sc_X.transform(test_X)"
   ]
  },
  {
   "cell_type": "code",
   "execution_count": 168,
   "metadata": {},
   "outputs": [
    {
     "data": {
      "text/plain": [
       "(73147, 10)"
      ]
     },
     "execution_count": 168,
     "metadata": {},
     "output_type": "execute_result"
    }
   ],
   "source": [
    "X.shape"
   ]
  },
  {
   "cell_type": "code",
   "execution_count": 169,
   "metadata": {},
   "outputs": [
    {
     "data": {
      "text/plain": [
       "(31349, 10)"
      ]
     },
     "execution_count": 169,
     "metadata": {},
     "output_type": "execute_result"
    }
   ],
   "source": [
    "test_X.shape"
   ]
  },
  {
   "cell_type": "code",
   "execution_count": 170,
   "metadata": {},
   "outputs": [],
   "source": [
    "from sklearn.ensemble import RandomForestClassifier,GradientBoostingClassifier\n",
    "from sklearn.linear_model import LogisticRegression\n",
    "from sklearn.svm import SVC, LinearSVC\n",
    "from sklearn.ensemble import RandomForestClassifier\n",
    "from sklearn.neighbors import KNeighborsClassifier\n",
    "from sklearn.naive_bayes import GaussianNB\n",
    "from sklearn.linear_model import Perceptron\n",
    "from sklearn.linear_model import SGDClassifier\n",
    "from sklearn.tree import DecisionTreeClassifier"
   ]
  },
  {
   "cell_type": "code",
   "execution_count": 171,
   "metadata": {},
   "outputs": [],
   "source": [
    "from sklearn.model_selection import train_test_split\n",
    "\n",
    "x_tr,x_te,y_tr,y_te=train_test_split(X,Y,test_size=0.2)"
   ]
  },
  {
   "cell_type": "code",
   "execution_count": null,
   "metadata": {},
   "outputs": [],
   "source": [
    "# from xgboost import XGBClassifier\n",
    "# clf2=XGBClassifier()\n",
    "clf=RandomForestClassifier(n_estimators=300,max_features='sqrt', min_samples_leaf=1)\n",
    "clf.fit(x_tr,y_tr)\n",
    "# clf2.fit(x_tr,y_tr)"
   ]
  },
  {
   "cell_type": "code",
   "execution_count": null,
   "metadata": {},
   "outputs": [],
   "source": [
    "# import pickle\n",
    "# filename = 'finalized_model.sav'\n",
    "# pickle.dump(clf, open(filename, 'wb'))"
   ]
  },
  {
   "cell_type": "code",
   "execution_count": null,
   "metadata": {},
   "outputs": [],
   "source": [
    "# loaded_model = pickle.load(open(filename, 'rb'))"
   ]
  },
  {
   "cell_type": "code",
   "execution_count": null,
   "metadata": {},
   "outputs": [],
   "source": [
    "# filename = 'finalized_model.sav'\n",
    "# pickle.dump(loaded_model, open(filename, 'wb'))"
   ]
  },
  {
   "cell_type": "code",
   "execution_count": null,
   "metadata": {},
   "outputs": [],
   "source": [
    "# loade = pickle.load(open(filename, 'rb'))"
   ]
  },
  {
   "cell_type": "code",
   "execution_count": null,
   "metadata": {},
   "outputs": [],
   "source": []
  },
  {
   "cell_type": "code",
   "execution_count": 95,
   "metadata": {},
   "outputs": [
    {
     "data": {
      "text/plain": [
       "0.716267942583732"
      ]
     },
     "execution_count": 95,
     "metadata": {},
     "output_type": "execute_result"
    }
   ],
   "source": [
    "clf.score(x_te,y_te)"
   ]
  },
  {
   "cell_type": "code",
   "execution_count": 96,
   "metadata": {},
   "outputs": [
    {
     "data": {
      "text/html": [
       "<div>\n",
       "<style scoped>\n",
       "    .dataframe tbody tr th:only-of-type {\n",
       "        vertical-align: middle;\n",
       "    }\n",
       "\n",
       "    .dataframe tbody tr th {\n",
       "        vertical-align: top;\n",
       "    }\n",
       "\n",
       "    .dataframe thead th {\n",
       "        text-align: right;\n",
       "    }\n",
       "</style>\n",
       "<table border=\"1\" class=\"dataframe\">\n",
       "  <thead>\n",
       "    <tr style=\"text-align: right;\">\n",
       "      <th></th>\n",
       "      <th>id</th>\n",
       "      <th>is_pass</th>\n",
       "    </tr>\n",
       "  </thead>\n",
       "  <tbody>\n",
       "    <tr>\n",
       "      <th>0</th>\n",
       "      <td>1626_45</td>\n",
       "      <td>0</td>\n",
       "    </tr>\n",
       "    <tr>\n",
       "      <th>1</th>\n",
       "      <td>11020_130</td>\n",
       "      <td>0</td>\n",
       "    </tr>\n",
       "    <tr>\n",
       "      <th>2</th>\n",
       "      <td>12652_146</td>\n",
       "      <td>0</td>\n",
       "    </tr>\n",
       "    <tr>\n",
       "      <th>3</th>\n",
       "      <td>7038_72</td>\n",
       "      <td>0</td>\n",
       "    </tr>\n",
       "    <tr>\n",
       "      <th>4</th>\n",
       "      <td>888_71</td>\n",
       "      <td>0</td>\n",
       "    </tr>\n",
       "  </tbody>\n",
       "</table>\n",
       "</div>"
      ],
      "text/plain": [
       "          id  is_pass\n",
       "0    1626_45        0\n",
       "1  11020_130        0\n",
       "2  12652_146        0\n",
       "3    7038_72        0\n",
       "4     888_71        0"
      ]
     },
     "execution_count": 96,
     "metadata": {},
     "output_type": "execute_result"
    }
   ],
   "source": [
    "sample.head()"
   ]
  },
  {
   "cell_type": "code",
   "execution_count": 97,
   "metadata": {},
   "outputs": [],
   "source": [
    "ypred=clf.predict(test_X)"
   ]
  },
  {
   "cell_type": "code",
   "execution_count": 98,
   "metadata": {},
   "outputs": [],
   "source": [
    "sample['is_pass']=ypred"
   ]
  },
  {
   "cell_type": "code",
   "execution_count": 99,
   "metadata": {},
   "outputs": [],
   "source": [
    "sample.to_csv('anally.csv', sep=',',index=False)"
   ]
  },
  {
   "cell_type": "code",
   "execution_count": 67,
   "metadata": {},
   "outputs": [
    {
     "data": {
      "text/plain": [
       "(31349, 2)"
      ]
     },
     "execution_count": 67,
     "metadata": {},
     "output_type": "execute_result"
    }
   ],
   "source": [
    "sample.shape"
   ]
  },
  {
   "cell_type": "code",
   "execution_count": null,
   "metadata": {},
   "outputs": [],
   "source": []
  },
  {
   "cell_type": "code",
   "execution_count": null,
   "metadata": {},
   "outputs": [],
   "source": []
  }
 ],
 "metadata": {
  "kernelspec": {
   "display_name": "Python 3",
   "language": "python",
   "name": "python3"
  },
  "language_info": {
   "codemirror_mode": {
    "name": "ipython",
    "version": 3
   },
   "file_extension": ".py",
   "mimetype": "text/x-python",
   "name": "python",
   "nbconvert_exporter": "python",
   "pygments_lexer": "ipython3",
   "version": "3.6.4"
  }
 },
 "nbformat": 4,
 "nbformat_minor": 2
}
